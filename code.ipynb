{
  "nbformat": 4,
  "nbformat_minor": 0,
  "metadata": {
    "accelerator": "GPU",
    "colab": {
      "name": "code.ipynb",
      "provenance": [],
      "machine_shape": "hm"
    },
    "kernelspec": {
      "display_name": "Python 3",
      "language": "python",
      "name": "python3"
    },
    "language_info": {
      "codemirror_mode": {
        "name": "ipython",
        "version": 3
      },
      "file_extension": ".py",
      "mimetype": "text/x-python",
      "name": "python",
      "nbconvert_exporter": "python",
      "pygments_lexer": "ipython3",
      "version": "3.6.8"
    }
  },
  "cells": [
    {
      "cell_type": "code",
      "metadata": {
        "colab_type": "code",
        "id": "GLxcv6ZKmhfU",
        "colab": {}
      },
      "source": [
        "!pip install xgboost seaborn --quiet"
      ],
      "execution_count": 0,
      "outputs": []
    },
    {
      "cell_type": "code",
      "metadata": {
        "colab_type": "code",
        "id": "bH2rXCs347_z",
        "colab": {}
      },
      "source": [
        "import numpy as np\n",
        "import pandas as pd\n",
        "import scipy\n",
        "import io\n",
        "#from google.colab import files\n",
        "import matplotlib.pyplot as plt\n",
        "from sklearn.feature_extraction.text import CountVectorizer\n",
        "from sklearn.model_selection import train_test_split\n",
        "from sklearn.ensemble import RandomForestClassifier\n",
        "from xgboost import XGBClassifier\n",
        "from sklearn.preprocessing import LabelEncoder\n",
        "from sklearn.naive_bayes import MultinomialNB\n",
        "from sklearn.metrics import accuracy_score\n",
        "from sklearn.model_selection import KFold, RepeatedKFold\n",
        "import seaborn as sns\n",
        "\n",
        "pd.options.mode.chained_assignment = None"
      ],
      "execution_count": 0,
      "outputs": []
    },
    {
      "cell_type": "markdown",
      "metadata": {
        "colab_type": "text",
        "id": "9NTeHeEy2CdB"
      },
      "source": [
        "#### Read train data"
      ]
    },
    {
      "cell_type": "code",
      "metadata": {
        "colab_type": "code",
        "id": "XlUQktAs5ODa",
        "colab": {}
      },
      "source": [
        "#can also import data using these URLs by replacing file path with URL in pd.read_csv\n",
        "# df_url = \"https://raw.githubusercontent.com/RishabhRJain/Building-permit-category-prediction-challenge/master/train_file.csv\"\n",
        "# testdf_url = \"https://raw.githubusercontent.com/RishabhRJain/Building-permit-category-prediction-challenge/master/test_file.csv\"\n",
        "df = pd.read_csv('./train.csv', sep = ',')\n"
      ],
      "execution_count": 0,
      "outputs": []
    },
    {
      "cell_type": "code",
      "metadata": {
        "colab_type": "code",
        "id": "IP5WmtIl99i1",
        "outputId": "76402149-befb-48b8-ff46-fd07a01b119e",
        "colab": {
          "base_uri": "https://localhost:8080/",
          "height": 530
        }
      },
      "source": [
        "df.head()"
      ],
      "execution_count": 5,
      "outputs": [
        {
          "output_type": "execute_result",
          "data": {
            "text/html": [
              "<div>\n",
              "<style scoped>\n",
              "    .dataframe tbody tr th:only-of-type {\n",
              "        vertical-align: middle;\n",
              "    }\n",
              "\n",
              "    .dataframe tbody tr th {\n",
              "        vertical-align: top;\n",
              "    }\n",
              "\n",
              "    .dataframe thead th {\n",
              "        text-align: right;\n",
              "    }\n",
              "</style>\n",
              "<table border=\"1\" class=\"dataframe\">\n",
              "  <thead>\n",
              "    <tr style=\"text-align: right;\">\n",
              "      <th></th>\n",
              "      <th>Application/Permit Number</th>\n",
              "      <th>Permit Type</th>\n",
              "      <th>Address</th>\n",
              "      <th>Description</th>\n",
              "      <th>Action Type</th>\n",
              "      <th>Work Type</th>\n",
              "      <th>Applicant Name</th>\n",
              "      <th>Application Date</th>\n",
              "      <th>Issue Date</th>\n",
              "      <th>Final Date</th>\n",
              "      <th>Expiration Date</th>\n",
              "      <th>Status</th>\n",
              "      <th>Contractor</th>\n",
              "      <th>Permit and Complaint Status URL</th>\n",
              "      <th>Master Use Permit</th>\n",
              "      <th>Latitude</th>\n",
              "      <th>Longitude</th>\n",
              "      <th>Location</th>\n",
              "      <th>Category</th>\n",
              "    </tr>\n",
              "  </thead>\n",
              "  <tbody>\n",
              "    <tr>\n",
              "      <th>0</th>\n",
              "      <td>6640280</td>\n",
              "      <td>Construction</td>\n",
              "      <td>1924 10TH AVE E</td>\n",
              "      <td>Alterations to single family residence, (porti...</td>\n",
              "      <td>ADD/ALT</td>\n",
              "      <td>No plan review</td>\n",
              "      <td>ZHANG, JERRY</td>\n",
              "      <td>2018-01-16T00:00:00</td>\n",
              "      <td>2018-01-16T00:00:00</td>\n",
              "      <td>NaN</td>\n",
              "      <td>2019-07-16T00:00:00</td>\n",
              "      <td>Permit Issued</td>\n",
              "      <td>NaN</td>\n",
              "      <td>{'url': 'http://web6.seattle.gov/dpd/PermitSta...</td>\n",
              "      <td>NaN</td>\n",
              "      <td>47.636732</td>\n",
              "      <td>-122.319828</td>\n",
              "      <td>{'latitude': '47.63673222', 'human_address': '...</td>\n",
              "      <td>SINGLE FAMILY / DUPLEX</td>\n",
              "    </tr>\n",
              "    <tr>\n",
              "      <th>1</th>\n",
              "      <td>6452959</td>\n",
              "      <td>Construction</td>\n",
              "      <td>9434 DELRIDGE WAY SW</td>\n",
              "      <td>Change use permit from restaurant to residenti...</td>\n",
              "      <td>ADD/ALT</td>\n",
              "      <td>Plan Review</td>\n",
              "      <td>MARTIN, TERRY</td>\n",
              "      <td>2015-02-13T00:00:00</td>\n",
              "      <td>2015-04-16T00:00:00</td>\n",
              "      <td>2016-11-15T00:00:00</td>\n",
              "      <td>2016-10-16T00:00:00</td>\n",
              "      <td>Permit Closed</td>\n",
              "      <td>NaN</td>\n",
              "      <td>{'url': 'http://web6.seattle.gov/dpd/PermitSta...</td>\n",
              "      <td>NaN</td>\n",
              "      <td>47.518298</td>\n",
              "      <td>-122.355555</td>\n",
              "      <td>{'latitude': '47.51829831', 'human_address': '...</td>\n",
              "      <td>COMMERCIAL</td>\n",
              "    </tr>\n",
              "    <tr>\n",
              "      <th>2</th>\n",
              "      <td>6435127</td>\n",
              "      <td>Construction</td>\n",
              "      <td>535 TERRY AVE N</td>\n",
              "      <td>Construct interior alterations to existing off...</td>\n",
              "      <td>ADD/ALT</td>\n",
              "      <td>No plan review</td>\n",
              "      <td>ALLEXSAHT, REBECCA</td>\n",
              "      <td>2014-09-04T00:00:00</td>\n",
              "      <td>2014-09-04T00:00:00</td>\n",
              "      <td>2015-11-20T00:00:00</td>\n",
              "      <td>2016-03-04T00:00:00</td>\n",
              "      <td>Permit Closed</td>\n",
              "      <td>IA/INTERIOR ARCHITECTS</td>\n",
              "      <td>{'url': 'http://web6.seattle.gov/dpd/PermitSta...</td>\n",
              "      <td>NaN</td>\n",
              "      <td>47.624025</td>\n",
              "      <td>-122.337567</td>\n",
              "      <td>{'latitude': '47.62402492', 'human_address': '...</td>\n",
              "      <td>COMMERCIAL</td>\n",
              "    </tr>\n",
              "    <tr>\n",
              "      <th>3</th>\n",
              "      <td>6620870</td>\n",
              "      <td>Demolition</td>\n",
              "      <td>830 4TH AVE S</td>\n",
              "      <td>need to remove a fire escape that is not part ...</td>\n",
              "      <td>DEMOLITION</td>\n",
              "      <td>Plan Review</td>\n",
              "      <td>JUNK, FRANK</td>\n",
              "      <td>NaN</td>\n",
              "      <td>NaN</td>\n",
              "      <td>NaN</td>\n",
              "      <td>NaN</td>\n",
              "      <td>Initial Information Collected</td>\n",
              "      <td>NaN</td>\n",
              "      <td>{'url': 'http://web6.seattle.gov/dpd/PermitSta...</td>\n",
              "      <td>NaN</td>\n",
              "      <td>47.595020</td>\n",
              "      <td>-122.328530</td>\n",
              "      <td>{'latitude': '47.59502036', 'human_address': '...</td>\n",
              "      <td>COMMERCIAL</td>\n",
              "    </tr>\n",
              "    <tr>\n",
              "      <th>4</th>\n",
              "      <td>6363778</td>\n",
              "      <td>Construction</td>\n",
              "      <td>805 NE 106TH ST</td>\n",
              "      <td>Channel modification to Thornton Creek, stream...</td>\n",
              "      <td>ADD/ALT</td>\n",
              "      <td>Plan Review</td>\n",
              "      <td>DANIEL, MARK</td>\n",
              "      <td>2013-05-02T00:00:00</td>\n",
              "      <td>2013-12-19T00:00:00</td>\n",
              "      <td>2015-05-14T00:00:00</td>\n",
              "      <td>2015-06-19T00:00:00</td>\n",
              "      <td>Permit Closed</td>\n",
              "      <td>SEATTLE PARKS DEPT</td>\n",
              "      <td>{'url': 'http://web6.seattle.gov/dpd/PermitSta...</td>\n",
              "      <td>NaN</td>\n",
              "      <td>47.705686</td>\n",
              "      <td>-122.320134</td>\n",
              "      <td>{'latitude': '47.70568601', 'human_address': '...</td>\n",
              "      <td>COMMERCIAL</td>\n",
              "    </tr>\n",
              "  </tbody>\n",
              "</table>\n",
              "</div>"
            ],
            "text/plain": [
              "   Application/Permit Number  ...                Category\n",
              "0                    6640280  ...  SINGLE FAMILY / DUPLEX\n",
              "1                    6452959  ...              COMMERCIAL\n",
              "2                    6435127  ...              COMMERCIAL\n",
              "3                    6620870  ...              COMMERCIAL\n",
              "4                    6363778  ...              COMMERCIAL\n",
              "\n",
              "[5 rows x 19 columns]"
            ]
          },
          "metadata": {
            "tags": []
          },
          "execution_count": 5
        }
      ]
    },
    {
      "cell_type": "code",
      "metadata": {
        "colab_type": "code",
        "id": "CH1a49mz5ZEB",
        "outputId": "37a8595d-7242-41ca-aae7-3a9867a8289b",
        "colab": {
          "base_uri": "https://localhost:8080/",
          "height": 442
        }
      },
      "source": [
        "print(\"Info about Data:\")\n",
        "print(\"Number of rows: \", df.shape[0])\n",
        "print(\"Number of Columns: \", df.shape[1])\n",
        "print(\"\\nNumber of null values in each column:\\n\", df.isnull().sum())"
      ],
      "execution_count": 6,
      "outputs": [
        {
          "output_type": "stream",
          "text": [
            "Info about Data:\n",
            "Number of rows:  33539\n",
            "Number of Columns:  19\n",
            "\n",
            "Number of null values in each column:\n",
            " Application/Permit Number              0\n",
            "Permit Type                            0\n",
            "Address                               19\n",
            "Description                           10\n",
            "Action Type                          779\n",
            "Work Type                              0\n",
            "Applicant Name                       135\n",
            "Application Date                    6939\n",
            "Issue Date                         10624\n",
            "Final Date                         17851\n",
            "Expiration Date                    10569\n",
            "Status                              1574\n",
            "Contractor                         27503\n",
            "Permit and Complaint Status URL        0\n",
            "Master Use Permit                  29041\n",
            "Latitude                              21\n",
            "Longitude                             21\n",
            "Location                               8\n",
            "Category                               0\n",
            "dtype: int64\n"
          ],
          "name": "stdout"
        }
      ]
    },
    {
      "cell_type": "code",
      "metadata": {
        "colab_type": "code",
        "id": "R_njaSc00C2V",
        "colab": {}
      },
      "source": [
        "y_train = df['Category']\n",
        "df = df.drop('Category' , axis = 1)"
      ],
      "execution_count": 0,
      "outputs": []
    },
    {
      "cell_type": "markdown",
      "metadata": {
        "colab_type": "text",
        "id": "Mjuy2mRd5CTz"
      },
      "source": [
        "#### Read Test Data"
      ]
    },
    {
      "cell_type": "code",
      "metadata": {
        "colab_type": "code",
        "id": "h3Csaqew5Mpj",
        "colab": {}
      },
      "source": [
        "test_df = pd.read_csv('./test.csv', sep = ',')"
      ],
      "execution_count": 0,
      "outputs": []
    },
    {
      "cell_type": "code",
      "metadata": {
        "colab_type": "code",
        "id": "c_3qWpvA53V_",
        "outputId": "82793d0f-4b38-483f-97ef-f75bfa3ad764",
        "colab": {
          "base_uri": "https://localhost:8080/",
          "height": 68
        }
      },
      "source": [
        "print(\"Info about Data:\")\n",
        "print(\"Number of rows: \", test_df.shape[0])\n",
        "print(\"Number of Columns: \", test_df.shape[1])"
      ],
      "execution_count": 9,
      "outputs": [
        {
          "output_type": "stream",
          "text": [
            "Info about Data:\n",
            "Number of rows:  22360\n",
            "Number of Columns:  18\n"
          ],
          "name": "stdout"
        }
      ]
    },
    {
      "cell_type": "markdown",
      "metadata": {
        "colab_type": "text",
        "id": "z55yblYS5rW9"
      },
      "source": [
        "#### Merge train and test data set"
      ]
    },
    {
      "cell_type": "code",
      "metadata": {
        "colab_type": "code",
        "id": "d0zAvegk6Bk0",
        "outputId": "16bd3e19-a0b9-400e-ffbe-d0a8addf9e3b",
        "colab": {
          "base_uri": "https://localhost:8080/",
          "height": 530
        }
      },
      "source": [
        "train_test = pd.concat([df, test_df], join = 'inner')\n",
        "train_test.head()"
      ],
      "execution_count": 10,
      "outputs": [
        {
          "output_type": "execute_result",
          "data": {
            "text/html": [
              "<div>\n",
              "<style scoped>\n",
              "    .dataframe tbody tr th:only-of-type {\n",
              "        vertical-align: middle;\n",
              "    }\n",
              "\n",
              "    .dataframe tbody tr th {\n",
              "        vertical-align: top;\n",
              "    }\n",
              "\n",
              "    .dataframe thead th {\n",
              "        text-align: right;\n",
              "    }\n",
              "</style>\n",
              "<table border=\"1\" class=\"dataframe\">\n",
              "  <thead>\n",
              "    <tr style=\"text-align: right;\">\n",
              "      <th></th>\n",
              "      <th>Application/Permit Number</th>\n",
              "      <th>Permit Type</th>\n",
              "      <th>Address</th>\n",
              "      <th>Description</th>\n",
              "      <th>Action Type</th>\n",
              "      <th>Work Type</th>\n",
              "      <th>Applicant Name</th>\n",
              "      <th>Application Date</th>\n",
              "      <th>Issue Date</th>\n",
              "      <th>Final Date</th>\n",
              "      <th>Expiration Date</th>\n",
              "      <th>Status</th>\n",
              "      <th>Contractor</th>\n",
              "      <th>Permit and Complaint Status URL</th>\n",
              "      <th>Master Use Permit</th>\n",
              "      <th>Latitude</th>\n",
              "      <th>Longitude</th>\n",
              "      <th>Location</th>\n",
              "    </tr>\n",
              "  </thead>\n",
              "  <tbody>\n",
              "    <tr>\n",
              "      <th>0</th>\n",
              "      <td>6640280</td>\n",
              "      <td>Construction</td>\n",
              "      <td>1924 10TH AVE E</td>\n",
              "      <td>Alterations to single family residence, (porti...</td>\n",
              "      <td>ADD/ALT</td>\n",
              "      <td>No plan review</td>\n",
              "      <td>ZHANG, JERRY</td>\n",
              "      <td>2018-01-16T00:00:00</td>\n",
              "      <td>2018-01-16T00:00:00</td>\n",
              "      <td>NaN</td>\n",
              "      <td>2019-07-16T00:00:00</td>\n",
              "      <td>Permit Issued</td>\n",
              "      <td>NaN</td>\n",
              "      <td>{'url': 'http://web6.seattle.gov/dpd/PermitSta...</td>\n",
              "      <td>NaN</td>\n",
              "      <td>47.636732</td>\n",
              "      <td>-122.319828</td>\n",
              "      <td>{'latitude': '47.63673222', 'human_address': '...</td>\n",
              "    </tr>\n",
              "    <tr>\n",
              "      <th>1</th>\n",
              "      <td>6452959</td>\n",
              "      <td>Construction</td>\n",
              "      <td>9434 DELRIDGE WAY SW</td>\n",
              "      <td>Change use permit from restaurant to residenti...</td>\n",
              "      <td>ADD/ALT</td>\n",
              "      <td>Plan Review</td>\n",
              "      <td>MARTIN, TERRY</td>\n",
              "      <td>2015-02-13T00:00:00</td>\n",
              "      <td>2015-04-16T00:00:00</td>\n",
              "      <td>2016-11-15T00:00:00</td>\n",
              "      <td>2016-10-16T00:00:00</td>\n",
              "      <td>Permit Closed</td>\n",
              "      <td>NaN</td>\n",
              "      <td>{'url': 'http://web6.seattle.gov/dpd/PermitSta...</td>\n",
              "      <td>NaN</td>\n",
              "      <td>47.518298</td>\n",
              "      <td>-122.355555</td>\n",
              "      <td>{'latitude': '47.51829831', 'human_address': '...</td>\n",
              "    </tr>\n",
              "    <tr>\n",
              "      <th>2</th>\n",
              "      <td>6435127</td>\n",
              "      <td>Construction</td>\n",
              "      <td>535 TERRY AVE N</td>\n",
              "      <td>Construct interior alterations to existing off...</td>\n",
              "      <td>ADD/ALT</td>\n",
              "      <td>No plan review</td>\n",
              "      <td>ALLEXSAHT, REBECCA</td>\n",
              "      <td>2014-09-04T00:00:00</td>\n",
              "      <td>2014-09-04T00:00:00</td>\n",
              "      <td>2015-11-20T00:00:00</td>\n",
              "      <td>2016-03-04T00:00:00</td>\n",
              "      <td>Permit Closed</td>\n",
              "      <td>IA/INTERIOR ARCHITECTS</td>\n",
              "      <td>{'url': 'http://web6.seattle.gov/dpd/PermitSta...</td>\n",
              "      <td>NaN</td>\n",
              "      <td>47.624025</td>\n",
              "      <td>-122.337567</td>\n",
              "      <td>{'latitude': '47.62402492', 'human_address': '...</td>\n",
              "    </tr>\n",
              "    <tr>\n",
              "      <th>3</th>\n",
              "      <td>6620870</td>\n",
              "      <td>Demolition</td>\n",
              "      <td>830 4TH AVE S</td>\n",
              "      <td>need to remove a fire escape that is not part ...</td>\n",
              "      <td>DEMOLITION</td>\n",
              "      <td>Plan Review</td>\n",
              "      <td>JUNK, FRANK</td>\n",
              "      <td>NaN</td>\n",
              "      <td>NaN</td>\n",
              "      <td>NaN</td>\n",
              "      <td>NaN</td>\n",
              "      <td>Initial Information Collected</td>\n",
              "      <td>NaN</td>\n",
              "      <td>{'url': 'http://web6.seattle.gov/dpd/PermitSta...</td>\n",
              "      <td>NaN</td>\n",
              "      <td>47.595020</td>\n",
              "      <td>-122.328530</td>\n",
              "      <td>{'latitude': '47.59502036', 'human_address': '...</td>\n",
              "    </tr>\n",
              "    <tr>\n",
              "      <th>4</th>\n",
              "      <td>6363778</td>\n",
              "      <td>Construction</td>\n",
              "      <td>805 NE 106TH ST</td>\n",
              "      <td>Channel modification to Thornton Creek, stream...</td>\n",
              "      <td>ADD/ALT</td>\n",
              "      <td>Plan Review</td>\n",
              "      <td>DANIEL, MARK</td>\n",
              "      <td>2013-05-02T00:00:00</td>\n",
              "      <td>2013-12-19T00:00:00</td>\n",
              "      <td>2015-05-14T00:00:00</td>\n",
              "      <td>2015-06-19T00:00:00</td>\n",
              "      <td>Permit Closed</td>\n",
              "      <td>SEATTLE PARKS DEPT</td>\n",
              "      <td>{'url': 'http://web6.seattle.gov/dpd/PermitSta...</td>\n",
              "      <td>NaN</td>\n",
              "      <td>47.705686</td>\n",
              "      <td>-122.320134</td>\n",
              "      <td>{'latitude': '47.70568601', 'human_address': '...</td>\n",
              "    </tr>\n",
              "  </tbody>\n",
              "</table>\n",
              "</div>"
            ],
            "text/plain": [
              "   Application/Permit Number  ...                                           Location\n",
              "0                    6640280  ...  {'latitude': '47.63673222', 'human_address': '...\n",
              "1                    6452959  ...  {'latitude': '47.51829831', 'human_address': '...\n",
              "2                    6435127  ...  {'latitude': '47.62402492', 'human_address': '...\n",
              "3                    6620870  ...  {'latitude': '47.59502036', 'human_address': '...\n",
              "4                    6363778  ...  {'latitude': '47.70568601', 'human_address': '...\n",
              "\n",
              "[5 rows x 18 columns]"
            ]
          },
          "metadata": {
            "tags": []
          },
          "execution_count": 10
        }
      ]
    },
    {
      "cell_type": "code",
      "metadata": {
        "colab_type": "code",
        "id": "U8pK3IL36Jhh",
        "outputId": "0db24f86-f18b-4e93-afaa-0ae78ea76b57",
        "colab": {
          "base_uri": "https://localhost:8080/",
          "height": 425
        }
      },
      "source": [
        "print(\"Info about Data:\")\n",
        "print(\"Number of rows: \", train_test.shape[0])\n",
        "print(\"Number of Columns: \", train_test.shape[1])\n",
        "print(\"\\n Number of null values in both train and test data: \\n\", train_test.isnull().sum())"
      ],
      "execution_count": 11,
      "outputs": [
        {
          "output_type": "stream",
          "text": [
            "Info about Data:\n",
            "Number of rows:  55899\n",
            "Number of Columns:  18\n",
            "\n",
            " Number of null values in both train and test data: \n",
            " Application/Permit Number              0\n",
            "Permit Type                            0\n",
            "Address                               35\n",
            "Description                           21\n",
            "Action Type                         1259\n",
            "Work Type                              0\n",
            "Applicant Name                       220\n",
            "Application Date                   11436\n",
            "Issue Date                         17565\n",
            "Final Date                         29812\n",
            "Expiration Date                    17484\n",
            "Status                              2609\n",
            "Contractor                         45748\n",
            "Permit and Complaint Status URL        0\n",
            "Master Use Permit                  48395\n",
            "Latitude                              37\n",
            "Longitude                             37\n",
            "Location                              14\n",
            "dtype: int64\n"
          ],
          "name": "stdout"
        }
      ]
    },
    {
      "cell_type": "markdown",
      "metadata": {
        "colab_type": "text",
        "id": "Vhd7rHRrCd37"
      },
      "source": [
        "## Data clean"
      ]
    },
    {
      "cell_type": "markdown",
      "metadata": {
        "colab_type": "text",
        "id": "YKTiGMt8mhhL"
      },
      "source": [
        "#### Drop columns which we are sparse (Final Date), redundant (Location can be got through Latitude and Longitude features) or if you think they dont help in predicting Target category (Application Id)"
      ]
    },
    {
      "cell_type": "code",
      "metadata": {
        "colab_type": "code",
        "id": "0CTnm9pEmhhO",
        "colab": {}
      },
      "source": [
        "del_columns = ['Master Use Permit', 'Permit and Complaint Status URL', \n",
        "                'Location', 'Issue Date', 'Final Date']\n",
        "train_test.drop(del_columns, axis = 1, inplace = True)"
      ],
      "execution_count": 0,
      "outputs": []
    },
    {
      "cell_type": "markdown",
      "metadata": {
        "colab_type": "text",
        "id": "g7emWs1-59kr"
      },
      "source": [
        "#### check number of unique values and categories in categorical columns"
      ]
    },
    {
      "cell_type": "code",
      "metadata": {
        "colab_type": "code",
        "id": "Dj88qe0cmhhX",
        "outputId": "7ab7ccc6-86fb-4086-a46f-de036aa07ed7",
        "colab": {
          "base_uri": "https://localhost:8080/",
          "height": 255
        }
      },
      "source": [
        "train_test.nunique()"
      ],
      "execution_count": 13,
      "outputs": [
        {
          "output_type": "execute_result",
          "data": {
            "text/plain": [
              "Application/Permit Number    55899\n",
              "Permit Type                      3\n",
              "Address                      33914\n",
              "Description                  47926\n",
              "Action Type                     16\n",
              "Work Type                        2\n",
              "Applicant Name               14639\n",
              "Application Date              2557\n",
              "Expiration Date               1700\n",
              "Status                          12\n",
              "Contractor                    2235\n",
              "Latitude                     32719\n",
              "Longitude                    38129\n",
              "dtype: int64"
            ]
          },
          "metadata": {
            "tags": []
          },
          "execution_count": 13
        }
      ]
    },
    {
      "cell_type": "markdown",
      "metadata": {
        "id": "vCNzu-Y-bl0i",
        "colab_type": "text"
      },
      "source": [
        "#### we see that even Applicant's name is repeated since there are only 14k unique values from sample size of 55k. This means it is generally the contractors or the builders who will file an application. Hence Applicant names are repeated"
      ]
    },
    {
      "cell_type": "code",
      "metadata": {
        "colab_type": "code",
        "id": "Dvg3L95Lmhhh",
        "outputId": "4b0771bf-e12f-4962-b47f-0b08e31bca8e",
        "colab": {
          "base_uri": "https://localhost:8080/",
          "height": 102
        }
      },
      "source": [
        "binary_cols =  train_test.nunique()[train_test.nunique().values == 2].keys().tolist()\n",
        "\n",
        "# Maximum categories are for Action type. Hence threshold for categorical columns has been kept at 20\n",
        "categorical_cols = train_test.nunique()[train_test.nunique().values <= 20].keys().tolist()\n",
        "categorical_cols = [col for col in categorical_cols if col not in binary_cols]\n",
        "\n",
        "date_cols = ['Application Date',  'Expiration Date']\n",
        "\n",
        "location_cols = ['Latitude', 'Longitude' ]\n",
        "\n",
        "text_cols = ['Address', 'Description', 'Contractor' ]\n",
        "\n",
        "print(\"Binary columns are: \", binary_cols)\n",
        "print(\"Categorical columns are: \", categorical_cols)\n",
        "print(\"Date columns are: \", date_cols)\n",
        "print(\"Location columns are: \", location_cols)\n",
        "print(\"Text columns are: \", text_cols)"
      ],
      "execution_count": 14,
      "outputs": [
        {
          "output_type": "stream",
          "text": [
            "Binary columns are:  ['Work Type']\n",
            "Categorical columns are:  ['Permit Type', 'Action Type', 'Status']\n",
            "Date columns are:  ['Application Date', 'Expiration Date']\n",
            "Location columns are:  ['Latitude', 'Longitude']\n",
            "Text columns are:  ['Address', 'Description', 'Contractor']\n"
          ],
          "name": "stdout"
        }
      ]
    },
    {
      "cell_type": "markdown",
      "metadata": {
        "colab_type": "text",
        "id": "TEkINVjgmhho"
      },
      "source": [
        "#### convert date_cols to Datetime"
      ]
    },
    {
      "cell_type": "code",
      "metadata": {
        "colab_type": "code",
        "id": "FKlxoy74mhhq",
        "colab": {}
      },
      "source": [
        "for col in date_cols:\n",
        "  train_test[col] = pd.to_datetime(train_test[col])"
      ],
      "execution_count": 0,
      "outputs": []
    },
    {
      "cell_type": "markdown",
      "metadata": {
        "colab_type": "text",
        "id": "14GBtqdqm6lq"
      },
      "source": [
        "#### Remove or replace NaN values"
      ]
    },
    {
      "cell_type": "code",
      "metadata": {
        "colab_type": "code",
        "id": "QoNauPKvmhhy",
        "colab": {}
      },
      "source": [
        "for col in categorical_cols + text_cols:\n",
        "    train_test[col].fillna('NA', inplace = True)\n",
        "   \n",
        "for col in location_cols:\n",
        "    train_test[col].fillna(train_test[col].mean(), inplace = True)\n",
        "\n",
        "train_test['Applicant Name'].fillna('', inplace = True)"
      ],
      "execution_count": 0,
      "outputs": []
    },
    {
      "cell_type": "code",
      "metadata": {
        "colab_type": "code",
        "id": "AgWsIokXmhh9",
        "outputId": "997671bd-96fb-407d-b22a-1c1c84a7cb5c",
        "colab": {
          "base_uri": "https://localhost:8080/",
          "height": 255
        }
      },
      "source": [
        "train_test.isnull().sum()"
      ],
      "execution_count": 17,
      "outputs": [
        {
          "output_type": "execute_result",
          "data": {
            "text/plain": [
              "Application/Permit Number        0\n",
              "Permit Type                      0\n",
              "Address                          0\n",
              "Description                      0\n",
              "Action Type                      0\n",
              "Work Type                        0\n",
              "Applicant Name                   0\n",
              "Application Date             11436\n",
              "Expiration Date              17484\n",
              "Status                           0\n",
              "Contractor                       0\n",
              "Latitude                         0\n",
              "Longitude                        0\n",
              "dtype: int64"
            ]
          },
          "metadata": {
            "tags": []
          },
          "execution_count": 17
        }
      ]
    },
    {
      "cell_type": "code",
      "metadata": {
        "colab_type": "code",
        "id": "dH3x39EJmhiF",
        "outputId": "62321f9b-fcc9-449d-c0c6-a1799e630eb6",
        "colab": {
          "base_uri": "https://localhost:8080/",
          "height": 289
        }
      },
      "source": [
        "for col in categorical_cols:\n",
        "    print(\"\\n{}: {} \\n {}\".format(col, train_test[col].nunique(), train_test[col].unique()))"
      ],
      "execution_count": 18,
      "outputs": [
        {
          "output_type": "stream",
          "text": [
            "\n",
            "Permit Type: 3 \n",
            " ['Construction' 'Demolition' 'Site Development']\n",
            "\n",
            "Action Type: 17 \n",
            " ['ADD/ALT' 'DEMOLITION' 'ALTER' 'NEW' 'TREE/VEGETATION MAINT/RESTORE'\n",
            " 'NO CONSTRUCTION' 'NA' 'TEMP' 'CURB CUT' 'GRADING'\n",
            " 'SHORELINE EXEMPTION ONLY' 'SITE MONITORING ONLY' 'DECONSTRUCTION'\n",
            " 'RELOCATION' 'FLOODPLAIN LICENSE ONLY' 'TREE PROTECTION EXEMPTION'\n",
            " 'DRAINAGE APPROVAL']\n",
            "\n",
            "Status: 13 \n",
            " ['Permit Issued' 'Permit Closed' 'Initial Information Collected'\n",
            " 'Permit Finaled' 'AP Closed' 'CANCELLED' 'Application Accepted' 'NA'\n",
            " 'Reviews Completed' 'Information Collected'\n",
            " 'Cert of Occupancy Authorized' 'AP Finaled' 'Inspections Added']\n"
          ],
          "name": "stdout"
        }
      ]
    },
    {
      "cell_type": "markdown",
      "metadata": {
        "colab_type": "text",
        "id": "Jfg7wO4wcgeF"
      },
      "source": [
        "#### Before one hot encoding, create a train copy to be used for visualisation "
      ]
    },
    {
      "cell_type": "code",
      "metadata": {
        "colab_type": "code",
        "id": "-NU9FiBNbRJ4",
        "colab": {}
      },
      "source": [
        "df_copy = train_test[:len(y_train)]\n",
        "df_copy['Category'] = y_train"
      ],
      "execution_count": 0,
      "outputs": []
    },
    {
      "cell_type": "markdown",
      "metadata": {
        "colab_type": "text",
        "id": "R36-8cmivlKL"
      },
      "source": [
        "#### one hot encode categorical and binary columns in train and test data"
      ]
    },
    {
      "cell_type": "code",
      "metadata": {
        "colab_type": "code",
        "id": "XH5kfnHcvsKD",
        "colab": {}
      },
      "source": [
        "train_test = pd.get_dummies(train_test, columns = categorical_cols)\n",
        "\n",
        "le_bin = LabelEncoder()\n",
        "for col in binary_cols:\n",
        "    train_test[col] = le_bin.fit_transform(train_test[col])"
      ],
      "execution_count": 0,
      "outputs": []
    },
    {
      "cell_type": "markdown",
      "metadata": {
        "colab_type": "text",
        "id": "FVewRX1ydi-q"
      },
      "source": [
        "## Visualisation"
      ]
    },
    {
      "cell_type": "code",
      "metadata": {
        "colab_type": "code",
        "id": "S-5kgYZ6lzRd",
        "outputId": "73d5eb64-76b7-48ce-de37-8071d98c13ed",
        "colab": {
          "base_uri": "https://localhost:8080/",
          "height": 513
        }
      },
      "source": [
        "df_copy.head()"
      ],
      "execution_count": 21,
      "outputs": [
        {
          "output_type": "execute_result",
          "data": {
            "text/html": [
              "<div>\n",
              "<style scoped>\n",
              "    .dataframe tbody tr th:only-of-type {\n",
              "        vertical-align: middle;\n",
              "    }\n",
              "\n",
              "    .dataframe tbody tr th {\n",
              "        vertical-align: top;\n",
              "    }\n",
              "\n",
              "    .dataframe thead th {\n",
              "        text-align: right;\n",
              "    }\n",
              "</style>\n",
              "<table border=\"1\" class=\"dataframe\">\n",
              "  <thead>\n",
              "    <tr style=\"text-align: right;\">\n",
              "      <th></th>\n",
              "      <th>Application/Permit Number</th>\n",
              "      <th>Permit Type</th>\n",
              "      <th>Address</th>\n",
              "      <th>Description</th>\n",
              "      <th>Action Type</th>\n",
              "      <th>Work Type</th>\n",
              "      <th>Applicant Name</th>\n",
              "      <th>Application Date</th>\n",
              "      <th>Expiration Date</th>\n",
              "      <th>Status</th>\n",
              "      <th>Contractor</th>\n",
              "      <th>Latitude</th>\n",
              "      <th>Longitude</th>\n",
              "      <th>Category</th>\n",
              "    </tr>\n",
              "  </thead>\n",
              "  <tbody>\n",
              "    <tr>\n",
              "      <th>0</th>\n",
              "      <td>6640280</td>\n",
              "      <td>Construction</td>\n",
              "      <td>1924 10TH AVE E</td>\n",
              "      <td>Alterations to single family residence, (porti...</td>\n",
              "      <td>ADD/ALT</td>\n",
              "      <td>No plan review</td>\n",
              "      <td>ZHANG, JERRY</td>\n",
              "      <td>2018-01-16</td>\n",
              "      <td>2019-07-16</td>\n",
              "      <td>Permit Issued</td>\n",
              "      <td>NA</td>\n",
              "      <td>47.636732</td>\n",
              "      <td>-122.319828</td>\n",
              "      <td>SINGLE FAMILY / DUPLEX</td>\n",
              "    </tr>\n",
              "    <tr>\n",
              "      <th>1</th>\n",
              "      <td>6452959</td>\n",
              "      <td>Construction</td>\n",
              "      <td>9434 DELRIDGE WAY SW</td>\n",
              "      <td>Change use permit from restaurant to residenti...</td>\n",
              "      <td>ADD/ALT</td>\n",
              "      <td>Plan Review</td>\n",
              "      <td>MARTIN, TERRY</td>\n",
              "      <td>2015-02-13</td>\n",
              "      <td>2016-10-16</td>\n",
              "      <td>Permit Closed</td>\n",
              "      <td>NA</td>\n",
              "      <td>47.518298</td>\n",
              "      <td>-122.355555</td>\n",
              "      <td>COMMERCIAL</td>\n",
              "    </tr>\n",
              "    <tr>\n",
              "      <th>2</th>\n",
              "      <td>6435127</td>\n",
              "      <td>Construction</td>\n",
              "      <td>535 TERRY AVE N</td>\n",
              "      <td>Construct interior alterations to existing off...</td>\n",
              "      <td>ADD/ALT</td>\n",
              "      <td>No plan review</td>\n",
              "      <td>ALLEXSAHT, REBECCA</td>\n",
              "      <td>2014-09-04</td>\n",
              "      <td>2016-03-04</td>\n",
              "      <td>Permit Closed</td>\n",
              "      <td>IA/INTERIOR ARCHITECTS</td>\n",
              "      <td>47.624025</td>\n",
              "      <td>-122.337567</td>\n",
              "      <td>COMMERCIAL</td>\n",
              "    </tr>\n",
              "    <tr>\n",
              "      <th>3</th>\n",
              "      <td>6620870</td>\n",
              "      <td>Demolition</td>\n",
              "      <td>830 4TH AVE S</td>\n",
              "      <td>need to remove a fire escape that is not part ...</td>\n",
              "      <td>DEMOLITION</td>\n",
              "      <td>Plan Review</td>\n",
              "      <td>JUNK, FRANK</td>\n",
              "      <td>NaT</td>\n",
              "      <td>NaT</td>\n",
              "      <td>Initial Information Collected</td>\n",
              "      <td>NA</td>\n",
              "      <td>47.595020</td>\n",
              "      <td>-122.328530</td>\n",
              "      <td>COMMERCIAL</td>\n",
              "    </tr>\n",
              "    <tr>\n",
              "      <th>4</th>\n",
              "      <td>6363778</td>\n",
              "      <td>Construction</td>\n",
              "      <td>805 NE 106TH ST</td>\n",
              "      <td>Channel modification to Thornton Creek, stream...</td>\n",
              "      <td>ADD/ALT</td>\n",
              "      <td>Plan Review</td>\n",
              "      <td>DANIEL, MARK</td>\n",
              "      <td>2013-05-02</td>\n",
              "      <td>2015-06-19</td>\n",
              "      <td>Permit Closed</td>\n",
              "      <td>SEATTLE PARKS DEPT</td>\n",
              "      <td>47.705686</td>\n",
              "      <td>-122.320134</td>\n",
              "      <td>COMMERCIAL</td>\n",
              "    </tr>\n",
              "  </tbody>\n",
              "</table>\n",
              "</div>"
            ],
            "text/plain": [
              "   Application/Permit Number   Permit Type  ...   Longitude                Category\n",
              "0                    6640280  Construction  ... -122.319828  SINGLE FAMILY / DUPLEX\n",
              "1                    6452959  Construction  ... -122.355555              COMMERCIAL\n",
              "2                    6435127  Construction  ... -122.337567              COMMERCIAL\n",
              "3                    6620870    Demolition  ... -122.328530              COMMERCIAL\n",
              "4                    6363778  Construction  ... -122.320134              COMMERCIAL\n",
              "\n",
              "[5 rows x 14 columns]"
            ]
          },
          "metadata": {
            "tags": []
          },
          "execution_count": 21
        }
      ]
    },
    {
      "cell_type": "code",
      "metadata": {
        "colab_type": "code",
        "id": "iAcqUlemdn3s",
        "outputId": "2a1a3879-4a4e-4512-9334-060dd387d0da",
        "colab": {
          "base_uri": "https://localhost:8080/",
          "height": 454
        }
      },
      "source": [
        "catplot = sns.catplot(x=\"Category\", kind=\"count\", data=df_copy)\n",
        "catplot.set_xticklabels(rotation=45)\n",
        "catplot.set_titles('Category' )\n",
        "catplot.savefig('./category.png')"
      ],
      "execution_count": 22,
      "outputs": [
        {
          "output_type": "display_data",
          "data": {
            "image/png": "[encoded data removed]",
            "text/plain": [
              "<Figure size 360x360 with 1 Axes>"
            ]
          },
          "metadata": {
            "tags": []
          }
        }
      ]
    },
    {
      "cell_type": "markdown",
      "metadata": {
        "colab_type": "text",
        "id": "WUJkJT4Hhafh"
      },
      "source": [
        "##### As we see above, we have an imbalanced Dataset"
      ]
    },
    {
      "cell_type": "code",
      "metadata": {
        "colab_type": "code",
        "id": "PVEIUQQ5mFyU",
        "outputId": "e44aff98-1769-425d-d74c-86b31a456d69",
        "colab": {
          "base_uri": "https://localhost:8080/",
          "height": 436
        }
      },
      "source": [
        "work_plot = sns.catplot(x=\"Work Type\", kind=\"count\", data=df_copy)\n",
        "work_plot.set_xticklabels(rotation=45)\n",
        "work_plot.set_titles('Work Type' )"
      ],
      "execution_count": 23,
      "outputs": [
        {
          "output_type": "execute_result",
          "data": {
            "text/plain": [
              "<seaborn.axisgrid.FacetGrid at 0x7fc272ae7320>"
            ]
          },
          "metadata": {
            "tags": []
          },
          "execution_count": 23
        },
        {
          "output_type": "display_data",
          "data": {
            "image/png": "[encoded data removed]",
            "text/plain": [
              "<Figure size 360x360 with 1 Axes>"
            ]
          },
          "metadata": {
            "tags": []
          }
        }
      ]
    },
    {
      "cell_type": "code",
      "metadata": {
        "colab_type": "code",
        "id": "R0cmyl1rnr4j",
        "outputId": "36bc7f84-08b6-44ef-8406-4adc76a91f39",
        "colab": {
          "base_uri": "https://localhost:8080/",
          "height": 526
        }
      },
      "source": [
        " status_plot = sns.catplot(x=\"Status\", kind=\"count\", data=df_copy)\n",
        "status_plot.set_xticklabels(rotation=90)\n",
        "status_plot.set_titles('Status' )"
      ],
      "execution_count": 24,
      "outputs": [
        {
          "output_type": "execute_result",
          "data": {
            "text/plain": [
              "<seaborn.axisgrid.FacetGrid at 0x7fc2736b3390>"
            ]
          },
          "metadata": {
            "tags": []
          },
          "execution_count": 24
        },
        {
          "output_type": "display_data",
          "data": {
            "image/png": "[encoded data removed]",
            "text/plain": [
              "<Figure size 360x360 with 1 Axes>"
            ]
          },
          "metadata": {
            "tags": []
          }
        }
      ]
    },
    {
      "cell_type": "code",
      "metadata": {
        "id": "pJVgLbgSbl2M",
        "colab_type": "code",
        "outputId": "f4712c65-181c-4401-adc6-b40c097498b7",
        "colab": {
          "base_uri": "https://localhost:8080/",
          "height": 136
        }
      },
      "source": [
        "print(\"Top applicants for building permit: \\n{}\".format(df_copy['Applicant Name'].value_counts()[:5]))\n"
      ],
      "execution_count": 25,
      "outputs": [
        {
          "output_type": "stream",
          "text": [
            "Top applicants for building permit: \n",
            "WEBER, JULIAN             641\n",
            "BIDDLE, DAVE              609\n",
            "PATTERSON-O'HARE, JODI    472\n",
            "PAROLINE, ANDY            307\n",
            "NOVION, SHAUN             273\n",
            "Name: Applicant Name, dtype: int64\n"
          ],
          "name": "stdout"
        }
      ]
    },
    {
      "cell_type": "code",
      "metadata": {
        "id": "M0toLEWnbl2T",
        "colab_type": "code",
        "outputId": "3a9f2cbf-b32b-4231-d46a-e873d9fc242f",
        "colab": {
          "base_uri": "https://localhost:8080/",
          "height": 51
        }
      },
      "source": [
        "values = df_copy['Applicant Name'].value_counts()[:5].values.tolist()\n",
        "names = df_copy['Applicant Name'].value_counts()[:5].keys().tolist()\n",
        "print(\"names: \", names)\n",
        "print(\"values: \", values)\n",
        "#plt.bar(keys, values)"
      ],
      "execution_count": 26,
      "outputs": [
        {
          "output_type": "stream",
          "text": [
            "names:  ['WEBER, JULIAN', 'BIDDLE, DAVE', \"PATTERSON-O'HARE, JODI\", 'PAROLINE, ANDY', 'NOVION, SHAUN']\n",
            "values:  [641, 609, 472, 307, 273]\n"
          ],
          "name": "stdout"
        }
      ]
    },
    {
      "cell_type": "code",
      "metadata": {
        "id": "e2kmiEDTbl2a",
        "colab_type": "code",
        "outputId": "d28411d8-3950-4924-87dd-9733ac85305c",
        "colab": {
          "base_uri": "https://localhost:8080/",
          "height": 71
        }
      },
      "source": [
        "categories = df_copy['Category'].unique().tolist()\n",
        "dictionary = {cat:[] for cat in categories}\n",
        "\n",
        "for name in names:\n",
        "    cats = df_copy[df_copy['Applicant Name'] == name]['Category'].value_counts().keys().tolist()\n",
        "    cat_count = df_copy[df_copy['Applicant Name'] == name]['Category'].value_counts().values.tolist()\n",
        "    \n",
        "    not_found_categories = [category for category in categories if category not in cats]\n",
        "    for cat in not_found_categories:\n",
        "        dictionary[cat].append(0)\n",
        "        \n",
        "    for i,cat in enumerate(cats):\n",
        "            dictionary[cat].append(cat_count[i])\n",
        "        \n",
        "print(\"Top 5 applicant names according to categories: \\n\", dictionary)"
      ],
      "execution_count": 27,
      "outputs": [
        {
          "output_type": "stream",
          "text": [
            "Top 5 applicant names according to categories: \n",
            " {'SINGLE FAMILY / DUPLEX': [394, 458, 11, 21, 207], 'COMMERCIAL': [19, 25, 288, 266, 6], 'INSTITUTIONAL': [2, 0, 62, 1, 0], 'MULTIFAMILY': [226, 126, 111, 18, 59], 'INDUSTRIAL': [0, 0, 0, 1, 1]}\n"
          ],
          "name": "stdout"
        }
      ]
    },
    {
      "cell_type": "code",
      "metadata": {
        "id": "Ty67Sjyjbl2h",
        "colab_type": "code",
        "outputId": "af2d811d-983a-4d2e-f34d-932bf2b42bd0",
        "colab": {
          "base_uri": "https://localhost:8080/",
          "height": 414
        }
      },
      "source": [
        "SINGLE_FAMILY = dictionary['SINGLE FAMILY / DUPLEX']\n",
        "COMMERCIAL = dictionary['COMMERCIAL']\n",
        "INSTITUTIONAL = dictionary['INSTITUTIONAL']\n",
        "MULTIFAMILY = dictionary['MULTIFAMILY']\n",
        "INDUSTRIAL = dictionary['INDUSTRIAL']\n",
        "\n",
        "ind = np.arange(5)    # the x locations for the groups\n",
        "width = 0.35       # the width of the bars: can also be len(x) sequence\n",
        "\n",
        "p1 = plt.bar(ind, SINGLE_FAMILY, width )\n",
        "\n",
        "p2 = plt.bar(ind, COMMERCIAL, width,\n",
        "             bottom=SINGLE_FAMILY)\n",
        "\n",
        "p3 = plt.bar(ind, INSTITUTIONAL, width,\n",
        "             bottom=COMMERCIAL)\n",
        "\n",
        "p4 = plt.bar(ind, MULTIFAMILY, width,\n",
        "             bottom=INSTITUTIONAL)\n",
        "\n",
        "p5 = plt.bar(ind, INDUSTRIAL, width,\n",
        "             bottom=MULTIFAMILY)\n",
        "\n",
        "plt.title('Categories by top applicants')\n",
        "plt.xlabel('Applicant names')\n",
        "plt.ylabel('Numer of permits')\n",
        "plt.xticks(ind, names, rotation = 'vertical')\n",
        "plt.legend((p1[0], p2[0], p3[0], p4[0], p5[0]), ('SINGLE_FAMILY', 'COMMERCIAL', 'INSTITUTIONAL', 'MULTIFAMILY', 'INDUSTRIAL'))\n",
        "\n",
        "plt.show()"
      ],
      "execution_count": 28,
      "outputs": [
        {
          "output_type": "display_data",
          "data": {
            "image/png": "[encoded data removed]",
            "text/plain": [
              "<Figure size 432x288 with 1 Axes>"
            ]
          },
          "metadata": {
            "tags": []
          }
        }
      ]
    },
    {
      "cell_type": "code",
      "metadata": {
        "id": "VU0uH9r2bl2r",
        "colab_type": "code",
        "outputId": "4ce802a6-4d9a-4ac4-f4ac-05bc52f70ed1",
        "colab": {
          "base_uri": "https://localhost:8080/",
          "height": 386
        }
      },
      "source": [
        "sns.lmplot( x=\"Latitude\", y=\"Longitude\", data=df_copy, fit_reg=False, hue='Category', legend=True)"
      ],
      "execution_count": 29,
      "outputs": [
        {
          "output_type": "execute_result",
          "data": {
            "text/plain": [
              "<seaborn.axisgrid.FacetGrid at 0x7fc26e4df7f0>"
            ]
          },
          "metadata": {
            "tags": []
          },
          "execution_count": 29
        },
        {
          "output_type": "display_data",
          "data": {
            "image/png": "[encoded data removed]",
            "text/plain": [
              "<Figure size 520.234x360 with 1 Axes>"
            ]
          },
          "metadata": {
            "tags": []
          }
        }
      ]
    },
    {
      "cell_type": "markdown",
      "metadata": {
        "colab_type": "text",
        "id": "7EmLC5JV-d7t"
      },
      "source": [
        "## Copy clean train data back from train_test dataframe"
      ]
    },
    {
      "cell_type": "code",
      "metadata": {
        "colab_type": "code",
        "id": "PBVRmvCcmSdO",
        "colab": {}
      },
      "source": [
        "df = train_test[:len(y_train)]\n",
        "df['Category'] = y_train"
      ],
      "execution_count": 0,
      "outputs": []
    },
    {
      "cell_type": "markdown",
      "metadata": {
        "colab_type": "text",
        "id": "3tTKglO-T3gj"
      },
      "source": [
        "#### create a date dataframe to understand the time difference between expiration and application date based on Category"
      ]
    },
    {
      "cell_type": "code",
      "metadata": {
        "colab_type": "code",
        "id": "scVK05NyoOFx",
        "colab": {}
      },
      "source": [
        "#drop rows in which Application or Expiration Date is empty\n",
        "date_df = df.dropna(subset=date_cols, how='any')"
      ],
      "execution_count": 0,
      "outputs": []
    },
    {
      "cell_type": "code",
      "metadata": {
        "colab_type": "code",
        "id": "21kiynzK1c2Q",
        "colab": {}
      },
      "source": [
        "date_df['total period'] = (date_df['Expiration Date'] - date_df['Application Date']).dt.days"
      ],
      "execution_count": 0,
      "outputs": []
    },
    {
      "cell_type": "markdown",
      "metadata": {
        "colab_type": "text",
        "id": "jOBwlukKANXU"
      },
      "source": [
        "#### We see that different categories have time periods for Expiration Date with Multi family Categories having longest duration"
      ]
    },
    {
      "cell_type": "code",
      "metadata": {
        "colab_type": "code",
        "id": "o_Q9SM263qWw",
        "outputId": "8e7bcb50-9e2a-4d5c-ad09-ac053ad4c7ce",
        "colab": {
          "base_uri": "https://localhost:8080/",
          "height": 136
        }
      },
      "source": [
        "diff = date_df.groupby(['Category'])['total period'].mean()\n",
        "diff"
      ],
      "execution_count": 33,
      "outputs": [
        {
          "output_type": "execute_result",
          "data": {
            "text/plain": [
              "Category\n",
              "COMMERCIAL                649.047861\n",
              "INDUSTRIAL                718.448980\n",
              "INSTITUTIONAL             695.557070\n",
              "MULTIFAMILY               753.878155\n",
              "SINGLE FAMILY / DUPLEX    655.072607\n",
              "Name: total period, dtype: float64"
            ]
          },
          "metadata": {
            "tags": []
          },
          "execution_count": 33
        }
      ]
    },
    {
      "cell_type": "markdown",
      "metadata": {
        "colab_type": "text",
        "id": "D3OS0T_Eo5Fi"
      },
      "source": [
        "#### We will use the above data for imputing NaN date values in train data based on categories"
      ]
    },
    {
      "cell_type": "code",
      "metadata": {
        "colab_type": "code",
        "id": "EfHM7MisCtYm",
        "outputId": "56bd6a97-7938-44e4-c7f5-d16ffa5d50dc",
        "colab": {
          "base_uri": "https://localhost:8080/",
          "height": 34
        }
      },
      "source": [
        "# Mean time  for Total period across all Categories. We use this to append NaN values in test data\n",
        "diff.mean()"
      ],
      "execution_count": 34,
      "outputs": [
        {
          "output_type": "execute_result",
          "data": {
            "text/plain": [
              "694.4009342795456"
            ]
          },
          "metadata": {
            "tags": []
          },
          "execution_count": 34
        }
      ]
    },
    {
      "cell_type": "markdown",
      "metadata": {
        "colab_type": "text",
        "id": "CKSB0QEX_jPU"
      },
      "source": [
        "#### Finding time difference in days for train data"
      ]
    },
    {
      "cell_type": "markdown",
      "metadata": {
        "colab_type": "text",
        "id": "HLED6pT3qQu7"
      },
      "source": [
        "#### Fill NaN values in total period column with mean value based on Category"
      ]
    },
    {
      "cell_type": "code",
      "metadata": {
        "colab_type": "code",
        "id": "WDsPrj3g8p8s",
        "colab": {}
      },
      "source": [
        "df['total period'] = (df['Expiration Date'] - df['Application Date']).dt.days"
      ],
      "execution_count": 0,
      "outputs": []
    },
    {
      "cell_type": "code",
      "metadata": {
        "colab_type": "code",
        "id": "GyqTW47YBWJq",
        "colab": {}
      },
      "source": [
        "df['total period'] = df.apply(\n",
        "    lambda row: diff[row['Category']] if np.isnan(row['total period']) else df['total period'], axis=1)"
      ],
      "execution_count": 0,
      "outputs": []
    },
    {
      "cell_type": "code",
      "metadata": {
        "colab_type": "code",
        "id": "fGVw2Lp6RWoO",
        "colab": {}
      },
      "source": [
        "df.drop(date_cols, axis = 1, inplace = True)"
      ],
      "execution_count": 0,
      "outputs": []
    },
    {
      "cell_type": "markdown",
      "metadata": {
        "colab_type": "text",
        "id": "kcA7Nw4Z-GZa"
      },
      "source": [
        "#### use label encoding for Target variable"
      ]
    },
    {
      "cell_type": "code",
      "metadata": {
        "colab_type": "code",
        "id": "x02huzGE-B06",
        "outputId": "d896e0f7-8724-4d7c-b09c-41bb83a89282",
        "colab": {
          "base_uri": "https://localhost:8080/",
          "height": 34
        }
      },
      "source": [
        "le = LabelEncoder()\n",
        "target = le.fit_transform(df['Category'])\n",
        "df.drop('Category', axis = 1, inplace = True)\n",
        "\n",
        "le_name_mapping = dict(zip(le.classes_, le.transform(le.classes_)))\n",
        "print(le_name_mapping)"
      ],
      "execution_count": 38,
      "outputs": [
        {
          "output_type": "stream",
          "text": [
            "{'COMMERCIAL': 0, 'INDUSTRIAL': 1, 'INSTITUTIONAL': 2, 'MULTIFAMILY': 3, 'SINGLE FAMILY / DUPLEX': 4}\n"
          ],
          "name": "stdout"
        }
      ]
    },
    {
      "cell_type": "code",
      "metadata": {
        "colab_type": "code",
        "id": "T87gXPi_mhjn",
        "colab": {}
      },
      "source": [
        "df['Latitude'].fillna((df['Latitude'].mean()), inplace=True)\n",
        "df['Longitude'].fillna((df['Longitude'].mean()), inplace=True)"
      ],
      "execution_count": 0,
      "outputs": []
    },
    {
      "cell_type": "code",
      "metadata": {
        "colab_type": "code",
        "id": "x3UVkKgx-PCE",
        "outputId": "c7b02454-2570-4a25-8efd-416a666b4e4b",
        "colab": {
          "base_uri": "https://localhost:8080/",
          "height": 547
        }
      },
      "source": [
        " df.head()"
      ],
      "execution_count": 40,
      "outputs": [
        {
          "output_type": "execute_result",
          "data": {
            "text/html": [
              "<div>\n",
              "<style scoped>\n",
              "    .dataframe tbody tr th:only-of-type {\n",
              "        vertical-align: middle;\n",
              "    }\n",
              "\n",
              "    .dataframe tbody tr th {\n",
              "        vertical-align: top;\n",
              "    }\n",
              "\n",
              "    .dataframe thead th {\n",
              "        text-align: right;\n",
              "    }\n",
              "</style>\n",
              "<table border=\"1\" class=\"dataframe\">\n",
              "  <thead>\n",
              "    <tr style=\"text-align: right;\">\n",
              "      <th></th>\n",
              "      <th>Application/Permit Number</th>\n",
              "      <th>Address</th>\n",
              "      <th>Description</th>\n",
              "      <th>Work Type</th>\n",
              "      <th>Applicant Name</th>\n",
              "      <th>Contractor</th>\n",
              "      <th>Latitude</th>\n",
              "      <th>Longitude</th>\n",
              "      <th>Permit Type_Construction</th>\n",
              "      <th>Permit Type_Demolition</th>\n",
              "      <th>Permit Type_Site Development</th>\n",
              "      <th>Action Type_ADD/ALT</th>\n",
              "      <th>Action Type_ALTER</th>\n",
              "      <th>Action Type_CURB CUT</th>\n",
              "      <th>Action Type_DECONSTRUCTION</th>\n",
              "      <th>Action Type_DEMOLITION</th>\n",
              "      <th>Action Type_DRAINAGE APPROVAL</th>\n",
              "      <th>Action Type_FLOODPLAIN LICENSE ONLY</th>\n",
              "      <th>Action Type_GRADING</th>\n",
              "      <th>Action Type_NA</th>\n",
              "      <th>Action Type_NEW</th>\n",
              "      <th>Action Type_NO CONSTRUCTION</th>\n",
              "      <th>Action Type_RELOCATION</th>\n",
              "      <th>Action Type_SHORELINE EXEMPTION ONLY</th>\n",
              "      <th>Action Type_SITE MONITORING ONLY</th>\n",
              "      <th>Action Type_TEMP</th>\n",
              "      <th>Action Type_TREE PROTECTION EXEMPTION</th>\n",
              "      <th>Action Type_TREE/VEGETATION MAINT/RESTORE</th>\n",
              "      <th>Status_AP Closed</th>\n",
              "      <th>Status_AP Finaled</th>\n",
              "      <th>Status_Application Accepted</th>\n",
              "      <th>Status_CANCELLED</th>\n",
              "      <th>Status_Cert of Occupancy Authorized</th>\n",
              "      <th>Status_Information Collected</th>\n",
              "      <th>Status_Initial Information Collected</th>\n",
              "      <th>Status_Inspections Added</th>\n",
              "      <th>Status_NA</th>\n",
              "      <th>Status_Permit Closed</th>\n",
              "      <th>Status_Permit Finaled</th>\n",
              "      <th>Status_Permit Issued</th>\n",
              "      <th>Status_Reviews Completed</th>\n",
              "      <th>total period</th>\n",
              "    </tr>\n",
              "  </thead>\n",
              "  <tbody>\n",
              "    <tr>\n",
              "      <th>0</th>\n",
              "      <td>6640280</td>\n",
              "      <td>1924 10TH AVE E</td>\n",
              "      <td>Alterations to single family residence, (porti...</td>\n",
              "      <td>0</td>\n",
              "      <td>ZHANG, JERRY</td>\n",
              "      <td>NA</td>\n",
              "      <td>47.636732</td>\n",
              "      <td>-122.319828</td>\n",
              "      <td>1</td>\n",
              "      <td>0</td>\n",
              "      <td>0</td>\n",
              "      <td>1</td>\n",
              "      <td>0</td>\n",
              "      <td>0</td>\n",
              "      <td>0</td>\n",
              "      <td>0</td>\n",
              "      <td>0</td>\n",
              "      <td>0</td>\n",
              "      <td>0</td>\n",
              "      <td>0</td>\n",
              "      <td>0</td>\n",
              "      <td>0</td>\n",
              "      <td>0</td>\n",
              "      <td>0</td>\n",
              "      <td>0</td>\n",
              "      <td>0</td>\n",
              "      <td>0</td>\n",
              "      <td>0</td>\n",
              "      <td>0</td>\n",
              "      <td>0</td>\n",
              "      <td>0</td>\n",
              "      <td>0</td>\n",
              "      <td>0</td>\n",
              "      <td>0</td>\n",
              "      <td>0</td>\n",
              "      <td>0</td>\n",
              "      <td>0</td>\n",
              "      <td>0</td>\n",
              "      <td>0</td>\n",
              "      <td>1</td>\n",
              "      <td>0</td>\n",
              "      <td>546.000000</td>\n",
              "    </tr>\n",
              "    <tr>\n",
              "      <th>1</th>\n",
              "      <td>6452959</td>\n",
              "      <td>9434 DELRIDGE WAY SW</td>\n",
              "      <td>Change use permit from restaurant to residenti...</td>\n",
              "      <td>1</td>\n",
              "      <td>MARTIN, TERRY</td>\n",
              "      <td>NA</td>\n",
              "      <td>47.518298</td>\n",
              "      <td>-122.355555</td>\n",
              "      <td>1</td>\n",
              "      <td>0</td>\n",
              "      <td>0</td>\n",
              "      <td>1</td>\n",
              "      <td>0</td>\n",
              "      <td>0</td>\n",
              "      <td>0</td>\n",
              "      <td>0</td>\n",
              "      <td>0</td>\n",
              "      <td>0</td>\n",
              "      <td>0</td>\n",
              "      <td>0</td>\n",
              "      <td>0</td>\n",
              "      <td>0</td>\n",
              "      <td>0</td>\n",
              "      <td>0</td>\n",
              "      <td>0</td>\n",
              "      <td>0</td>\n",
              "      <td>0</td>\n",
              "      <td>0</td>\n",
              "      <td>0</td>\n",
              "      <td>0</td>\n",
              "      <td>0</td>\n",
              "      <td>0</td>\n",
              "      <td>0</td>\n",
              "      <td>0</td>\n",
              "      <td>0</td>\n",
              "      <td>0</td>\n",
              "      <td>0</td>\n",
              "      <td>1</td>\n",
              "      <td>0</td>\n",
              "      <td>0</td>\n",
              "      <td>0</td>\n",
              "      <td>546.000000</td>\n",
              "    </tr>\n",
              "    <tr>\n",
              "      <th>2</th>\n",
              "      <td>6435127</td>\n",
              "      <td>535 TERRY AVE N</td>\n",
              "      <td>Construct interior alterations to existing off...</td>\n",
              "      <td>0</td>\n",
              "      <td>ALLEXSAHT, REBECCA</td>\n",
              "      <td>IA/INTERIOR ARCHITECTS</td>\n",
              "      <td>47.624025</td>\n",
              "      <td>-122.337567</td>\n",
              "      <td>1</td>\n",
              "      <td>0</td>\n",
              "      <td>0</td>\n",
              "      <td>1</td>\n",
              "      <td>0</td>\n",
              "      <td>0</td>\n",
              "      <td>0</td>\n",
              "      <td>0</td>\n",
              "      <td>0</td>\n",
              "      <td>0</td>\n",
              "      <td>0</td>\n",
              "      <td>0</td>\n",
              "      <td>0</td>\n",
              "      <td>0</td>\n",
              "      <td>0</td>\n",
              "      <td>0</td>\n",
              "      <td>0</td>\n",
              "      <td>0</td>\n",
              "      <td>0</td>\n",
              "      <td>0</td>\n",
              "      <td>0</td>\n",
              "      <td>0</td>\n",
              "      <td>0</td>\n",
              "      <td>0</td>\n",
              "      <td>0</td>\n",
              "      <td>0</td>\n",
              "      <td>0</td>\n",
              "      <td>0</td>\n",
              "      <td>0</td>\n",
              "      <td>1</td>\n",
              "      <td>0</td>\n",
              "      <td>0</td>\n",
              "      <td>0</td>\n",
              "      <td>546.000000</td>\n",
              "    </tr>\n",
              "    <tr>\n",
              "      <th>3</th>\n",
              "      <td>6620870</td>\n",
              "      <td>830 4TH AVE S</td>\n",
              "      <td>need to remove a fire escape that is not part ...</td>\n",
              "      <td>1</td>\n",
              "      <td>JUNK, FRANK</td>\n",
              "      <td>NA</td>\n",
              "      <td>47.595020</td>\n",
              "      <td>-122.328530</td>\n",
              "      <td>0</td>\n",
              "      <td>1</td>\n",
              "      <td>0</td>\n",
              "      <td>0</td>\n",
              "      <td>0</td>\n",
              "      <td>0</td>\n",
              "      <td>0</td>\n",
              "      <td>1</td>\n",
              "      <td>0</td>\n",
              "      <td>0</td>\n",
              "      <td>0</td>\n",
              "      <td>0</td>\n",
              "      <td>0</td>\n",
              "      <td>0</td>\n",
              "      <td>0</td>\n",
              "      <td>0</td>\n",
              "      <td>0</td>\n",
              "      <td>0</td>\n",
              "      <td>0</td>\n",
              "      <td>0</td>\n",
              "      <td>0</td>\n",
              "      <td>0</td>\n",
              "      <td>0</td>\n",
              "      <td>0</td>\n",
              "      <td>0</td>\n",
              "      <td>0</td>\n",
              "      <td>1</td>\n",
              "      <td>0</td>\n",
              "      <td>0</td>\n",
              "      <td>0</td>\n",
              "      <td>0</td>\n",
              "      <td>0</td>\n",
              "      <td>0</td>\n",
              "      <td>649.047861</td>\n",
              "    </tr>\n",
              "    <tr>\n",
              "      <th>4</th>\n",
              "      <td>6363778</td>\n",
              "      <td>805 NE 106TH ST</td>\n",
              "      <td>Channel modification to Thornton Creek, stream...</td>\n",
              "      <td>1</td>\n",
              "      <td>DANIEL, MARK</td>\n",
              "      <td>SEATTLE PARKS DEPT</td>\n",
              "      <td>47.705686</td>\n",
              "      <td>-122.320134</td>\n",
              "      <td>1</td>\n",
              "      <td>0</td>\n",
              "      <td>0</td>\n",
              "      <td>1</td>\n",
              "      <td>0</td>\n",
              "      <td>0</td>\n",
              "      <td>0</td>\n",
              "      <td>0</td>\n",
              "      <td>0</td>\n",
              "      <td>0</td>\n",
              "      <td>0</td>\n",
              "      <td>0</td>\n",
              "      <td>0</td>\n",
              "      <td>0</td>\n",
              "      <td>0</td>\n",
              "      <td>0</td>\n",
              "      <td>0</td>\n",
              "      <td>0</td>\n",
              "      <td>0</td>\n",
              "      <td>0</td>\n",
              "      <td>0</td>\n",
              "      <td>0</td>\n",
              "      <td>0</td>\n",
              "      <td>0</td>\n",
              "      <td>0</td>\n",
              "      <td>0</td>\n",
              "      <td>0</td>\n",
              "      <td>0</td>\n",
              "      <td>0</td>\n",
              "      <td>1</td>\n",
              "      <td>0</td>\n",
              "      <td>0</td>\n",
              "      <td>0</td>\n",
              "      <td>546.000000</td>\n",
              "    </tr>\n",
              "  </tbody>\n",
              "</table>\n",
              "</div>"
            ],
            "text/plain": [
              "   Application/Permit Number  ... total period\n",
              "0                    6640280  ...   546.000000\n",
              "1                    6452959  ...   546.000000\n",
              "2                    6435127  ...   546.000000\n",
              "3                    6620870  ...   649.047861\n",
              "4                    6363778  ...   546.000000\n",
              "\n",
              "[5 rows x 42 columns]"
            ]
          },
          "metadata": {
            "tags": []
          },
          "execution_count": 40
        }
      ]
    },
    {
      "cell_type": "markdown",
      "metadata": {
        "colab_type": "text",
        "id": "tP9TVpJ4kvvj"
      },
      "source": [
        "### Encoding Address column into a vector"
      ]
    },
    {
      "cell_type": "code",
      "metadata": {
        "colab_type": "code",
        "id": "Y8UB4s4msKoe",
        "colab": {}
      },
      "source": [
        "#To convert some float values in Address column to string\n",
        "df['Address'] = df['Address'].astype(str)"
      ],
      "execution_count": 0,
      "outputs": []
    },
    {
      "cell_type": "code",
      "metadata": {
        "colab_type": "code",
        "id": "PeTgJEGVmxU_",
        "colab": {}
      },
      "source": [
        "def modify_address(row):\n",
        "  '''\n",
        "  Takes complete address and returns only street name without spaces. \n",
        "  Modified address can be encoded and used to predict Category\n",
        "  '''\n",
        "  addr = row.split(\" \", 1)\n",
        "  if len(addr) > 1:\n",
        "    addr = addr[1].replace(' ', '')\n",
        "  else:\n",
        "    addr = addr[0].replace(' ', '')\n",
        "  return addr\n",
        "\n",
        "##For example try this:\n",
        "#(df['Address'][0].split(\" \", 1)[1]).replace(' ', '')\n",
        "\n",
        "df['Address'] = df['Address'].apply(modify_address)"
      ],
      "execution_count": 0,
      "outputs": []
    },
    {
      "cell_type": "code",
      "metadata": {
        "colab_type": "code",
        "id": "Xntp90KvuvSf",
        "outputId": "2e1c7b33-2fee-474f-eb06-a5cf5a087e60",
        "colab": {
          "base_uri": "https://localhost:8080/",
          "height": 51
        }
      },
      "source": [
        "addr_vectorizer = CountVectorizer(min_df = 2) \n",
        "addr_vector = addr_vectorizer.fit_transform(df['Address'].tolist())  \n",
        "addr_vector"
      ],
      "execution_count": 43,
      "outputs": [
        {
          "output_type": "execute_result",
          "data": {
            "text/plain": [
              "<33539x1498 sparse matrix of type '<class 'numpy.int64'>'\n",
              "\twith 33305 stored elements in Compressed Sparse Row format>"
            ]
          },
          "metadata": {
            "tags": []
          },
          "execution_count": 43
        }
      ]
    },
    {
      "cell_type": "markdown",
      "metadata": {
        "colab_type": "text",
        "id": "wqDc1y9yJCT7"
      },
      "source": [
        "### Encoding Description column into a vector"
      ]
    },
    {
      "cell_type": "markdown",
      "metadata": {
        "colab_type": "text",
        "id": "BbXLHL2q_cJh"
      },
      "source": [
        "#### Using Count Vectorizer for Description column"
      ]
    },
    {
      "cell_type": "code",
      "metadata": {
        "colab_type": "code",
        "id": "xVtOTVIA_NBH",
        "outputId": "d5bb1da5-1766-48fa-83ad-7bfa72f14a15",
        "colab": {
          "base_uri": "https://localhost:8080/",
          "height": 51
        }
      },
      "source": [
        "desc_vectorizer = CountVectorizer(min_df=5 , stop_words='english') \n",
        "desc_vector = desc_vectorizer.fit_transform(df['Description'].tolist())  \n",
        "desc_vector"
      ],
      "execution_count": 44,
      "outputs": [
        {
          "output_type": "execute_result",
          "data": {
            "text/plain": [
              "<33539x2631 sparse matrix of type '<class 'numpy.int64'>'\n",
              "\twith 379151 stored elements in Compressed Sparse Row format>"
            ]
          },
          "metadata": {
            "tags": []
          },
          "execution_count": 44
        }
      ]
    },
    {
      "cell_type": "markdown",
      "metadata": {
        "colab_type": "text",
        "id": "DclNZWsHJdJJ"
      },
      "source": [
        "### Encoding Contractor into a vector"
      ]
    },
    {
      "cell_type": "markdown",
      "metadata": {
        "colab_type": "text",
        "id": "hAuckr7dGhmT"
      },
      "source": [
        "#### Using Count Vectorizer for Contractor column"
      ]
    },
    {
      "cell_type": "code",
      "metadata": {
        "colab_type": "code",
        "id": "HNXDgU_-HnzD",
        "outputId": "3ee4b4e8-3fd6-4f84-b1db-ac82098e2e16",
        "colab": {
          "base_uri": "https://localhost:8080/",
          "height": 51
        }
      },
      "source": [
        "contract_vectorizer = CountVectorizer(min_df = 2) \n",
        "contract_vector = contract_vectorizer.fit_transform(df['Contractor'].tolist())  \n",
        "contract_vector"
      ],
      "execution_count": 45,
      "outputs": [
        {
          "output_type": "execute_result",
          "data": {
            "text/plain": [
              "<33539x1118 sparse matrix of type '<class 'numpy.int64'>'\n",
              "\twith 46939 stored elements in Compressed Sparse Row format>"
            ]
          },
          "metadata": {
            "tags": []
          },
          "execution_count": 45
        }
      ]
    },
    {
      "cell_type": "markdown",
      "metadata": {
        "id": "dR4821uibl6I",
        "colab_type": "text"
      },
      "source": [
        "#### vectorizer for applicant name"
      ]
    },
    {
      "cell_type": "code",
      "metadata": {
        "id": "LXcToBdobl6K",
        "colab_type": "code",
        "outputId": "8048efc0-9f3c-4a48-9c9a-81c7d928eccc",
        "colab": {
          "base_uri": "https://localhost:8080/",
          "height": 51
        }
      },
      "source": [
        "name_vectorizer = CountVectorizer(min_df=2)\n",
        "name_vector = name_vectorizer.fit_transform(df['Applicant Name'].tolist())\n",
        "name_vector"
      ],
      "execution_count": 46,
      "outputs": [
        {
          "output_type": "execute_result",
          "data": {
            "text/plain": [
              "<33539x4343 sparse matrix of type '<class 'numpy.int64'>'\n",
              "\twith 63949 stored elements in Compressed Sparse Row format>"
            ]
          },
          "metadata": {
            "tags": []
          },
          "execution_count": 46
        }
      ]
    },
    {
      "cell_type": "code",
      "metadata": {
        "id": "AIcsBdunbl6T",
        "colab_type": "code",
        "outputId": "8c23d9a4-414f-4335-e4d6-dc4e4ed0a6c3",
        "colab": {
          "base_uri": "https://localhost:8080/",
          "height": 51
        }
      },
      "source": [
        "vectors = scipy.sparse.hstack((addr_vector, desc_vector, contract_vector, name_vector))\n",
        "vectors"
      ],
      "execution_count": 47,
      "outputs": [
        {
          "output_type": "execute_result",
          "data": {
            "text/plain": [
              "<33539x9590 sparse matrix of type '<class 'numpy.int64'>'\n",
              "\twith 523344 stored elements in COOrdinate format>"
            ]
          },
          "metadata": {
            "tags": []
          },
          "execution_count": 47
        }
      ]
    },
    {
      "cell_type": "markdown",
      "metadata": {
        "colab_type": "text",
        "id": "YW6gE0PGKMJs"
      },
      "source": [
        "### Seperate features and Target"
      ]
    },
    {
      "cell_type": "code",
      "metadata": {
        "colab_type": "code",
        "id": "o0-L0rYgRngU",
        "colab": {}
      },
      "source": [
        "y = target\n",
        "df.drop([ 'Application/Permit Number', 'Address', 'Description',  'Contractor', 'Applicant Name' ], axis = 1, inplace = True)"
      ],
      "execution_count": 0,
      "outputs": []
    },
    {
      "cell_type": "code",
      "metadata": {
        "colab_type": "code",
        "id": "w-CsgS8ZUQB9",
        "outputId": "83e17aad-a3dc-4db7-aff9-cf322ef01eb8",
        "colab": {
          "base_uri": "https://localhost:8080/",
          "height": 292
        }
      },
      "source": [
        "print(\"Shape of input features: \", df.shape)\n",
        "df.head()"
      ],
      "execution_count": 62,
      "outputs": [
        {
          "output_type": "stream",
          "text": [
            "Shape of input features:  (33539, 37)\n"
          ],
          "name": "stdout"
        },
        {
          "output_type": "execute_result",
          "data": {
            "text/html": [
              "<div>\n",
              "<style scoped>\n",
              "    .dataframe tbody tr th:only-of-type {\n",
              "        vertical-align: middle;\n",
              "    }\n",
              "\n",
              "    .dataframe tbody tr th {\n",
              "        vertical-align: top;\n",
              "    }\n",
              "\n",
              "    .dataframe thead th {\n",
              "        text-align: right;\n",
              "    }\n",
              "</style>\n",
              "<table border=\"1\" class=\"dataframe\">\n",
              "  <thead>\n",
              "    <tr style=\"text-align: right;\">\n",
              "      <th></th>\n",
              "      <th>Work Type</th>\n",
              "      <th>Latitude</th>\n",
              "      <th>Longitude</th>\n",
              "      <th>Permit Type_Construction</th>\n",
              "      <th>Permit Type_Demolition</th>\n",
              "      <th>Permit Type_Site Development</th>\n",
              "      <th>Action Type_ADD/ALT</th>\n",
              "      <th>Action Type_ALTER</th>\n",
              "      <th>Action Type_CURB CUT</th>\n",
              "      <th>Action Type_DECONSTRUCTION</th>\n",
              "      <th>Action Type_DEMOLITION</th>\n",
              "      <th>Action Type_DRAINAGE APPROVAL</th>\n",
              "      <th>Action Type_FLOODPLAIN LICENSE ONLY</th>\n",
              "      <th>Action Type_GRADING</th>\n",
              "      <th>Action Type_NA</th>\n",
              "      <th>Action Type_NEW</th>\n",
              "      <th>Action Type_NO CONSTRUCTION</th>\n",
              "      <th>Action Type_RELOCATION</th>\n",
              "      <th>Action Type_SHORELINE EXEMPTION ONLY</th>\n",
              "      <th>Action Type_SITE MONITORING ONLY</th>\n",
              "      <th>Action Type_TEMP</th>\n",
              "      <th>Action Type_TREE PROTECTION EXEMPTION</th>\n",
              "      <th>Action Type_TREE/VEGETATION MAINT/RESTORE</th>\n",
              "      <th>Status_AP Closed</th>\n",
              "      <th>Status_AP Finaled</th>\n",
              "      <th>Status_Application Accepted</th>\n",
              "      <th>Status_CANCELLED</th>\n",
              "      <th>Status_Cert of Occupancy Authorized</th>\n",
              "      <th>Status_Information Collected</th>\n",
              "      <th>Status_Initial Information Collected</th>\n",
              "      <th>Status_Inspections Added</th>\n",
              "      <th>Status_NA</th>\n",
              "      <th>Status_Permit Closed</th>\n",
              "      <th>Status_Permit Finaled</th>\n",
              "      <th>Status_Permit Issued</th>\n",
              "      <th>Status_Reviews Completed</th>\n",
              "      <th>total period</th>\n",
              "    </tr>\n",
              "  </thead>\n",
              "  <tbody>\n",
              "    <tr>\n",
              "      <th>0</th>\n",
              "      <td>0</td>\n",
              "      <td>47.636732</td>\n",
              "      <td>-122.319828</td>\n",
              "      <td>1</td>\n",
              "      <td>0</td>\n",
              "      <td>0</td>\n",
              "      <td>1</td>\n",
              "      <td>0</td>\n",
              "      <td>0</td>\n",
              "      <td>0</td>\n",
              "      <td>0</td>\n",
              "      <td>0</td>\n",
              "      <td>0</td>\n",
              "      <td>0</td>\n",
              "      <td>0</td>\n",
              "      <td>0</td>\n",
              "      <td>0</td>\n",
              "      <td>0</td>\n",
              "      <td>0</td>\n",
              "      <td>0</td>\n",
              "      <td>0</td>\n",
              "      <td>0</td>\n",
              "      <td>0</td>\n",
              "      <td>0</td>\n",
              "      <td>0</td>\n",
              "      <td>0</td>\n",
              "      <td>0</td>\n",
              "      <td>0</td>\n",
              "      <td>0</td>\n",
              "      <td>0</td>\n",
              "      <td>0</td>\n",
              "      <td>0</td>\n",
              "      <td>0</td>\n",
              "      <td>0</td>\n",
              "      <td>1</td>\n",
              "      <td>0</td>\n",
              "      <td>546.000000</td>\n",
              "    </tr>\n",
              "    <tr>\n",
              "      <th>1</th>\n",
              "      <td>1</td>\n",
              "      <td>47.518298</td>\n",
              "      <td>-122.355555</td>\n",
              "      <td>1</td>\n",
              "      <td>0</td>\n",
              "      <td>0</td>\n",
              "      <td>1</td>\n",
              "      <td>0</td>\n",
              "      <td>0</td>\n",
              "      <td>0</td>\n",
              "      <td>0</td>\n",
              "      <td>0</td>\n",
              "      <td>0</td>\n",
              "      <td>0</td>\n",
              "      <td>0</td>\n",
              "      <td>0</td>\n",
              "      <td>0</td>\n",
              "      <td>0</td>\n",
              "      <td>0</td>\n",
              "      <td>0</td>\n",
              "      <td>0</td>\n",
              "      <td>0</td>\n",
              "      <td>0</td>\n",
              "      <td>0</td>\n",
              "      <td>0</td>\n",
              "      <td>0</td>\n",
              "      <td>0</td>\n",
              "      <td>0</td>\n",
              "      <td>0</td>\n",
              "      <td>0</td>\n",
              "      <td>0</td>\n",
              "      <td>0</td>\n",
              "      <td>1</td>\n",
              "      <td>0</td>\n",
              "      <td>0</td>\n",
              "      <td>0</td>\n",
              "      <td>546.000000</td>\n",
              "    </tr>\n",
              "    <tr>\n",
              "      <th>2</th>\n",
              "      <td>0</td>\n",
              "      <td>47.624025</td>\n",
              "      <td>-122.337567</td>\n",
              "      <td>1</td>\n",
              "      <td>0</td>\n",
              "      <td>0</td>\n",
              "      <td>1</td>\n",
              "      <td>0</td>\n",
              "      <td>0</td>\n",
              "      <td>0</td>\n",
              "      <td>0</td>\n",
              "      <td>0</td>\n",
              "      <td>0</td>\n",
              "      <td>0</td>\n",
              "      <td>0</td>\n",
              "      <td>0</td>\n",
              "      <td>0</td>\n",
              "      <td>0</td>\n",
              "      <td>0</td>\n",
              "      <td>0</td>\n",
              "      <td>0</td>\n",
              "      <td>0</td>\n",
              "      <td>0</td>\n",
              "      <td>0</td>\n",
              "      <td>0</td>\n",
              "      <td>0</td>\n",
              "      <td>0</td>\n",
              "      <td>0</td>\n",
              "      <td>0</td>\n",
              "      <td>0</td>\n",
              "      <td>0</td>\n",
              "      <td>0</td>\n",
              "      <td>1</td>\n",
              "      <td>0</td>\n",
              "      <td>0</td>\n",
              "      <td>0</td>\n",
              "      <td>546.000000</td>\n",
              "    </tr>\n",
              "    <tr>\n",
              "      <th>3</th>\n",
              "      <td>1</td>\n",
              "      <td>47.595020</td>\n",
              "      <td>-122.328530</td>\n",
              "      <td>0</td>\n",
              "      <td>1</td>\n",
              "      <td>0</td>\n",
              "      <td>0</td>\n",
              "      <td>0</td>\n",
              "      <td>0</td>\n",
              "      <td>0</td>\n",
              "      <td>1</td>\n",
              "      <td>0</td>\n",
              "      <td>0</td>\n",
              "      <td>0</td>\n",
              "      <td>0</td>\n",
              "      <td>0</td>\n",
              "      <td>0</td>\n",
              "      <td>0</td>\n",
              "      <td>0</td>\n",
              "      <td>0</td>\n",
              "      <td>0</td>\n",
              "      <td>0</td>\n",
              "      <td>0</td>\n",
              "      <td>0</td>\n",
              "      <td>0</td>\n",
              "      <td>0</td>\n",
              "      <td>0</td>\n",
              "      <td>0</td>\n",
              "      <td>0</td>\n",
              "      <td>1</td>\n",
              "      <td>0</td>\n",
              "      <td>0</td>\n",
              "      <td>0</td>\n",
              "      <td>0</td>\n",
              "      <td>0</td>\n",
              "      <td>0</td>\n",
              "      <td>649.047861</td>\n",
              "    </tr>\n",
              "    <tr>\n",
              "      <th>4</th>\n",
              "      <td>1</td>\n",
              "      <td>47.705686</td>\n",
              "      <td>-122.320134</td>\n",
              "      <td>1</td>\n",
              "      <td>0</td>\n",
              "      <td>0</td>\n",
              "      <td>1</td>\n",
              "      <td>0</td>\n",
              "      <td>0</td>\n",
              "      <td>0</td>\n",
              "      <td>0</td>\n",
              "      <td>0</td>\n",
              "      <td>0</td>\n",
              "      <td>0</td>\n",
              "      <td>0</td>\n",
              "      <td>0</td>\n",
              "      <td>0</td>\n",
              "      <td>0</td>\n",
              "      <td>0</td>\n",
              "      <td>0</td>\n",
              "      <td>0</td>\n",
              "      <td>0</td>\n",
              "      <td>0</td>\n",
              "      <td>0</td>\n",
              "      <td>0</td>\n",
              "      <td>0</td>\n",
              "      <td>0</td>\n",
              "      <td>0</td>\n",
              "      <td>0</td>\n",
              "      <td>0</td>\n",
              "      <td>0</td>\n",
              "      <td>0</td>\n",
              "      <td>1</td>\n",
              "      <td>0</td>\n",
              "      <td>0</td>\n",
              "      <td>0</td>\n",
              "      <td>546.000000</td>\n",
              "    </tr>\n",
              "  </tbody>\n",
              "</table>\n",
              "</div>"
            ],
            "text/plain": [
              "   Work Type   Latitude  ...  Status_Reviews Completed  total period\n",
              "0          0  47.636732  ...                         0    546.000000\n",
              "1          1  47.518298  ...                         0    546.000000\n",
              "2          0  47.624025  ...                         0    546.000000\n",
              "3          1  47.595020  ...                         0    649.047861\n",
              "4          1  47.705686  ...                         0    546.000000\n",
              "\n",
              "[5 rows x 37 columns]"
            ]
          },
          "metadata": {
            "tags": []
          },
          "execution_count": 62
        }
      ]
    },
    {
      "cell_type": "markdown",
      "metadata": {
        "colab_type": "text",
        "id": "6ai8vOWJmhlM"
      },
      "source": [
        "#### Model building approach: stacking text vectors, numerical and categorical features"
      ]
    },
    {
      "cell_type": "code",
      "metadata": {
        "colab_type": "code",
        "id": "2RhHtmxHmhlO",
        "outputId": "adb87761-ba94-45ff-b4a1-01c01b384a67",
        "colab": {
          "base_uri": "https://localhost:8080/",
          "height": 51
        }
      },
      "source": [
        "X = scipy.sparse.hstack((vectors, df))\n",
        "print(type(X))\n",
        "X.shape"
      ],
      "execution_count": 50,
      "outputs": [
        {
          "output_type": "stream",
          "text": [
            "<class 'scipy.sparse.coo.coo_matrix'>\n"
          ],
          "name": "stdout"
        },
        {
          "output_type": "execute_result",
          "data": {
            "text/plain": [
              "(33539, 9627)"
            ]
          },
          "metadata": {
            "tags": []
          },
          "execution_count": 50
        }
      ]
    },
    {
      "cell_type": "markdown",
      "metadata": {
        "colab_type": "text",
        "id": "cbhul4GQL9ME"
      },
      "source": [
        "#### split train data into train and validate"
      ]
    },
    {
      "cell_type": "code",
      "metadata": {
        "colab_type": "code",
        "id": "dM7MO6vJU3vV",
        "colab": {}
      },
      "source": [
        "X_train, X_validate, y_train, y_validate = train_test_split(X, y, test_size = 0.1, random_state = 10, stratify = y)"
      ],
      "execution_count": 0,
      "outputs": []
    },
    {
      "cell_type": "code",
      "metadata": {
        "colab_type": "code",
        "id": "nxdOqCtIxBY2",
        "outputId": "8d2ef540-3ae1-4304-bde6-3b696f1b3cdb",
        "colab": {
          "base_uri": "https://localhost:8080/",
          "height": 34
        }
      },
      "source": [
        "X_train.shape"
      ],
      "execution_count": 52,
      "outputs": [
        {
          "output_type": "execute_result",
          "data": {
            "text/plain": [
              "(30185, 9627)"
            ]
          },
          "metadata": {
            "tags": []
          },
          "execution_count": 52
        }
      ]
    },
    {
      "cell_type": "code",
      "metadata": {
        "id": "FHgKu9OY68nL",
        "colab_type": "code",
        "colab": {}
      },
      "source": [
        "from sklearn.model_selection import GridSearchCV, cross_val_score\n",
        "from sklearn.linear_model import LogisticRegression\n",
        "from sklearn.svm import SVC"
      ],
      "execution_count": 0,
      "outputs": []
    },
    {
      "cell_type": "code",
      "metadata": {
        "id": "MocSlCNAlM5j",
        "colab_type": "code",
        "outputId": "21592a04-18bc-44df-f719-29d1580d2522",
        "colab": {
          "base_uri": "https://localhost:8080/",
          "height": 173
        }
      },
      "source": [
        "\n",
        "params = [{'C': [0.01, 0.1, 1, 2], 'penalty': ['l1', 'l2']}]\n",
        "\n",
        "grid_search = GridSearchCV(LogisticRegression(), param_grid=params, cv = 5)\n",
        "grid_search.fit(X, y)\n",
        "print(\"Best params: {}\".format(grid_search.best_params_))\n",
        "print(\"Best cross validation score: {}\".format(grid_search.best_score_))"
      ],
      "execution_count": 54,
      "outputs": [
        {
          "output_type": "stream",
          "text": [
            "/usr/local/lib/python3.6/dist-packages/sklearn/linear_model/logistic.py:432: FutureWarning: Default solver will be changed to 'lbfgs' in 0.22. Specify a solver to silence this warning.\n",
            "  FutureWarning)\n",
            "/usr/local/lib/python3.6/dist-packages/sklearn/linear_model/logistic.py:469: FutureWarning: Default multi_class will be changed to 'auto' in 0.22. Specify the multi_class option to silence this warning.\n",
            "  \"this warning.\", FutureWarning)\n",
            "/usr/local/lib/python3.6/dist-packages/sklearn/svm/base.py:929: ConvergenceWarning: Liblinear failed to converge, increase the number of iterations.\n",
            "  \"the number of iterations.\", ConvergenceWarning)\n"
          ],
          "name": "stderr"
        },
        {
          "output_type": "stream",
          "text": [
            "Best params: {'C': 1, 'penalty': 'l2'}\n",
            "Best cross validation score: 0.921792540028027\n"
          ],
          "name": "stdout"
        }
      ]
    },
    {
      "cell_type": "markdown",
      "metadata": {
        "colab_type": "text",
        "id": "x_HxcOOxroeR"
      },
      "source": [
        "#### Using Random Forest classifier"
      ]
    },
    {
      "cell_type": "code",
      "metadata": {
        "colab_type": "code",
        "id": "k7jaI0rUE6aW",
        "outputId": "dab51cd6-7f8f-49af-9028-028d9feb4626",
        "colab": {
          "base_uri": "https://localhost:8080/",
          "height": 51
        }
      },
      "source": [
        "from sklearn.model_selection import GridSearchCV\n",
        "\n",
        "params = [{'n_estimators': [ 500, 600], 'max_depth': [ 15, 20]}]\n",
        "\n",
        "grid_search = GridSearchCV(RandomForestClassifier(), param_grid=params, cv = 5)\n",
        "grid_search.fit(df, target)\n",
        "print(\"Best params: {}\".format(grid_search.best_params_))\n",
        "print(\"Best cross validation score: {}\".format(grid_search.best_score_))"
      ],
      "execution_count": 0,
      "outputs": [
        {
          "output_type": "stream",
          "text": [
            "Best params: {'max_depth': 20, 'n_estimators': 500}\n",
            "Best cross validation score: 0.875696949819613\n"
          ],
          "name": "stdout"
        }
      ]
    },
    {
      "cell_type": "code",
      "metadata": {
        "id": "Ns0kc5BBKezw",
        "colab_type": "code",
        "colab": {}
      },
      "source": [
        "def CreateBalancedSampleWeights(y_train, largest_class_weight_coef):\n",
        "    classes = np.unique(y_train, axis = 0)\n",
        "    classes.sort()\n",
        "    class_samples = np.bincount(y_train)\n",
        "    total_samples = class_samples.sum()\n",
        "    n_classes = len(class_samples)\n",
        "    weights = total_samples / (n_classes * class_samples * 1.0)\n",
        "    class_weight_dict = {key : value for (key, value) in zip(classes, weights)}\n",
        "    class_weight_dict[classes[1]] = class_weight_dict[classes[1]] * largest_class_weight_coef\n",
        "    sample_weights = [class_weight_dict[y] for y in y_train]\n",
        "\n",
        "    return sample_weights"
      ],
      "execution_count": 0,
      "outputs": []
    },
    {
      "cell_type": "code",
      "metadata": {
        "id": "s2SO9wGvOn80",
        "colab_type": "code",
        "colab": {
          "base_uri": "https://localhost:8080/",
          "height": 34
        },
        "outputId": "b453d713-fd1e-4947-b599-7fac2c81b3fc"
      },
      "source": [
        "np.unique(y, axis = 0)"
      ],
      "execution_count": 66,
      "outputs": [
        {
          "output_type": "execute_result",
          "data": {
            "text/plain": [
              "array([0, 1, 2, 3, 4])"
            ]
          },
          "metadata": {
            "tags": []
          },
          "execution_count": 66
        }
      ]
    },
    {
      "cell_type": "markdown",
      "metadata": {
        "id": "dQBr6iQ15veW",
        "colab_type": "text"
      },
      "source": [
        "#### Since its an imbalanced dataset, we will assign weights to classes based on their occurence. Least occuring class gets more weight and vice versa. This lets the model focus on less frequentlu occuring classes."
      ]
    },
    {
      "cell_type": "code",
      "metadata": {
        "id": "JIlKgF6YMUZg",
        "colab_type": "code",
        "colab": {
          "base_uri": "https://localhost:8080/",
          "height": 102
        },
        "outputId": "866bd9ab-db98-46d1-c31c-70c65ea58d77"
      },
      "source": [
        "largest_class_weight_coef = max(df_copy['Category'].value_counts().values)/df.shape[0]\n",
        "weight = CreateBalancedSampleWeights(y_train, largest_class_weight_coef)\n",
        "weight[:5]"
      ],
      "execution_count": 71,
      "outputs": [
        {
          "output_type": "execute_result",
          "data": {
            "text/plain": [
              "[0.6860227272727273,\n",
              " 0.3657014780712382,\n",
              " 0.3657014780712382,\n",
              " 0.6860227272727273,\n",
              " 0.3657014780712382]"
            ]
          },
          "metadata": {
            "tags": []
          },
          "execution_count": 71
        }
      ]
    },
    {
      "cell_type": "code",
      "metadata": {
        "colab_type": "code",
        "id": "N5BF2Cr2rnih",
        "outputId": "293c0330-e9fa-4164-cb6a-e4d5cc3273cc",
        "colab": {
          "base_uri": "https://localhost:8080/",
          "height": 306
        }
      },
      "source": [
        "xg = XGBClassifier(n_estimators=1000, weights = weight, max_depth=20)\n",
        "xg.fit(X_train, y_train)"
      ],
      "execution_count": 122,
      "outputs": [
        {
          "output_type": "execute_result",
          "data": {
            "text/plain": [
              "XGBClassifier(base_score=0.5, booster='gbtree', colsample_bylevel=1,\n",
              "              colsample_bynode=1, colsample_bytree=1, gamma=0,\n",
              "              learning_rate=0.1, max_delta_step=0, max_depth=20,\n",
              "              min_child_weight=1, missing=None, n_estimators=1000, n_jobs=1,\n",
              "              nthread=None, objective='multi:softprob', random_state=0,\n",
              "              reg_alpha=0, reg_lambda=1, scale_pos_weight=1, seed=None,\n",
              "              silent=None, subsample=...\n",
              "                       0.3657014780712382, 0.6860227272727273,\n",
              "                       0.3657014780712382, 0.6860227272727273,\n",
              "                       0.3657014780712382, 0.3657014780712382,\n",
              "                       0.3657014780712382, 0.3657014780712382,\n",
              "                       0.3657014780712382, 0.3657014780712382,\n",
              "                       1.635157096424702, 0.3657014780712382,\n",
              "                       0.6860227272727273, 0.6860227272727273,\n",
              "                       0.3657014780712382, 0.3657014780712382,\n",
              "                       0.3657014780712382, 1.635157096424702,\n",
              "                       0.6860227272727273, 0.3657014780712382, ...])"
            ]
          },
          "metadata": {
            "tags": []
          },
          "execution_count": 122
        }
      ]
    },
    {
      "cell_type": "code",
      "metadata": {
        "colab_type": "code",
        "id": "T0xVWOXcsbVC",
        "outputId": "ebec9f31-b6fd-4e9b-c116-bb21a0dce954",
        "colab": {
          "base_uri": "https://localhost:8080/",
          "height": 34
        }
      },
      "source": [
        "xg.score(X_validate, y_validate)"
      ],
      "execution_count": 123,
      "outputs": [
        {
          "output_type": "execute_result",
          "data": {
            "text/plain": [
              "0.9478234943351223"
            ]
          },
          "metadata": {
            "tags": []
          },
          "execution_count": 123
        }
      ]
    },
    {
      "cell_type": "markdown",
      "metadata": {
        "colab_type": "text",
        "id": "mYybQT_cqqpw"
      },
      "source": [
        "### Evaluation Metrics\n",
        "#### Since it is an imbalanced Data Set, we can evaluate performance by computing precision, recall and F1-score"
      ]
    },
    {
      "cell_type": "code",
      "metadata": {
        "colab_type": "code",
        "id": "-iHdCrgEqpRt",
        "colab": {}
      },
      "source": [
        "from sklearn.metrics import confusion_matrix,accuracy_score,classification_report\n",
        "from sklearn.metrics import roc_auc_score,roc_curve,scorer\n",
        "from sklearn.metrics import f1_score\n",
        "from sklearn.metrics import precision_score,recall_score, precision_recall_curve\n",
        "%matplotlib inline"
      ],
      "execution_count": 0,
      "outputs": []
    },
    {
      "cell_type": "code",
      "metadata": {
        "colab_type": "code",
        "id": "3W1QtMaAs4SY",
        "outputId": "56506479-4fd3-4744-b23f-149d04cfdb1d",
        "colab": {
          "base_uri": "https://localhost:8080/",
          "height": 102
        }
      },
      "source": [
        "predictions = xg.predict(X_validate)\n",
        "conf_matrix = confusion_matrix(y_validate,predictions)\n",
        "print(conf_matrix)"
      ],
      "execution_count": 76,
      "outputs": [
        {
          "output_type": "stream",
          "text": [
            "[[ 926    4    9   17   22]\n",
            " [  13   26    0    0    0]\n",
            " [  16    0   73    1    3]\n",
            " [  20    0    0  337   53]\n",
            " [   7    0    1   27 1799]]\n"
          ],
          "name": "stdout"
        }
      ]
    },
    {
      "cell_type": "code",
      "metadata": {
        "colab_type": "code",
        "id": "_Bjr59VQtLc1",
        "outputId": "0214ed9d-1207-4b9b-9f14-663274ea73f8",
        "colab": {
          "base_uri": "https://localhost:8080/",
          "height": 221
        }
      },
      "source": [
        "print(classification_report(y_validate, predictions, target_names = list(le_name_mapping.keys())))"
      ],
      "execution_count": 77,
      "outputs": [
        {
          "output_type": "stream",
          "text": [
            "                        precision    recall  f1-score   support\n",
            "\n",
            "            COMMERCIAL       0.94      0.95      0.94       978\n",
            "            INDUSTRIAL       0.87      0.67      0.75        39\n",
            "         INSTITUTIONAL       0.88      0.78      0.83        93\n",
            "           MULTIFAMILY       0.88      0.82      0.85       410\n",
            "SINGLE FAMILY / DUPLEX       0.96      0.98      0.97      1834\n",
            "\n",
            "              accuracy                           0.94      3354\n",
            "             macro avg       0.91      0.84      0.87      3354\n",
            "          weighted avg       0.94      0.94      0.94      3354\n",
            "\n"
          ],
          "name": "stdout"
        }
      ]
    },
    {
      "cell_type": "markdown",
      "metadata": {
        "colab_type": "text",
        "id": "5wk4aIX5YIPK"
      },
      "source": [
        "## Predict for Test Data"
      ]
    },
    {
      "cell_type": "code",
      "metadata": {
        "colab_type": "code",
        "id": "SYKb8R6Jeakv",
        "colab": {}
      },
      "source": [
        "#splitting test data from cleaned train_test dataframe\n",
        "test_df = train_test[df.shape[0]:]"
      ],
      "execution_count": 0,
      "outputs": []
    },
    {
      "cell_type": "code",
      "metadata": {
        "colab_type": "code",
        "id": "XS7RHT6ztLhN",
        "colab": {}
      },
      "source": [
        "test_df['Latitude'].fillna((test_df['Latitude'].mean()), inplace=True)\n",
        "test_df['Longitude'].fillna((test_df['Longitude'].mean()), inplace=True)"
      ],
      "execution_count": 0,
      "outputs": []
    },
    {
      "cell_type": "markdown",
      "metadata": {
        "colab_type": "text",
        "id": "XWSHdj5AMTf_"
      },
      "source": [
        "#### Encode the test Address data into vector using previously trained Address vectorizer"
      ]
    },
    {
      "cell_type": "code",
      "metadata": {
        "colab_type": "code",
        "id": "9O66IJKWM2cd",
        "colab": {}
      },
      "source": [
        "test_df['Address'] = test_df['Address'].astype(str)\n",
        "test_df['Address'] = test_df['Address'].apply(modify_address)"
      ],
      "execution_count": 0,
      "outputs": []
    },
    {
      "cell_type": "code",
      "metadata": {
        "colab_type": "code",
        "id": "V6EqKRyAMSwe",
        "outputId": "7acd955d-fa70-43a7-f8d1-03b9905991b7",
        "colab": {
          "base_uri": "https://localhost:8080/",
          "height": 34
        }
      },
      "source": [
        "test_addr_vector = addr_vectorizer.transform(test_df['Address'].tolist())  \n",
        "test_addr_vector.shape"
      ],
      "execution_count": 95,
      "outputs": [
        {
          "output_type": "execute_result",
          "data": {
            "text/plain": [
              "(22360, 1498)"
            ]
          },
          "metadata": {
            "tags": []
          },
          "execution_count": 95
        }
      ]
    },
    {
      "cell_type": "markdown",
      "metadata": {
        "colab_type": "text",
        "id": "JsN6xTu0O36a"
      },
      "source": [
        "#### encode test Description data using previously trained Description vectorizer"
      ]
    },
    {
      "cell_type": "code",
      "metadata": {
        "colab_type": "code",
        "id": "Szdwr_tnPHhm",
        "outputId": "94ab0f21-f9cb-432a-ae34-ac92325c23d2",
        "colab": {
          "base_uri": "https://localhost:8080/",
          "height": 34
        }
      },
      "source": [
        "test_desc_vector = desc_vectorizer.transform(test_df['Description'].tolist())  \n",
        "test_desc_vector.shape"
      ],
      "execution_count": 96,
      "outputs": [
        {
          "output_type": "execute_result",
          "data": {
            "text/plain": [
              "(22360, 2631)"
            ]
          },
          "metadata": {
            "tags": []
          },
          "execution_count": 96
        }
      ]
    },
    {
      "cell_type": "markdown",
      "metadata": {
        "colab_type": "text",
        "id": "9cig6l9KWuH7"
      },
      "source": [
        "#### encode test Contractor data using previously trained Contractor vectorizer"
      ]
    },
    {
      "cell_type": "code",
      "metadata": {
        "colab_type": "code",
        "id": "CBp7E1K3W7p1",
        "outputId": "eaaff38e-d91d-49c6-b247-ac903faccd70",
        "colab": {
          "base_uri": "https://localhost:8080/",
          "height": 34
        }
      },
      "source": [
        "test_contract_vector = contract_vectorizer.transform(test_df['Contractor'].tolist())  \n",
        "test_contract_vector.shape"
      ],
      "execution_count": 97,
      "outputs": [
        {
          "output_type": "execute_result",
          "data": {
            "text/plain": [
              "(22360, 1118)"
            ]
          },
          "metadata": {
            "tags": []
          },
          "execution_count": 97
        }
      ]
    },
    {
      "cell_type": "markdown",
      "metadata": {
        "id": "txj6hTnumbSE",
        "colab_type": "text"
      },
      "source": [
        "#### Encode Applicant name data"
      ]
    },
    {
      "cell_type": "code",
      "metadata": {
        "id": "AHj9cdK3mfqr",
        "colab_type": "code",
        "colab": {
          "base_uri": "https://localhost:8080/",
          "height": 34
        },
        "outputId": "5d02e59d-1a7b-4523-ef16-bc88b0ad93e9"
      },
      "source": [
        "test_name_vector = name_vectorizer.transform(test_df['Applicant Name'].tolist())\n",
        "test_name_vector.shape"
      ],
      "execution_count": 98,
      "outputs": [
        {
          "output_type": "execute_result",
          "data": {
            "text/plain": [
              "(22360, 4343)"
            ]
          },
          "metadata": {
            "tags": []
          },
          "execution_count": 98
        }
      ]
    },
    {
      "cell_type": "markdown",
      "metadata": {
        "id": "np2oO3abpgi-",
        "colab_type": "text"
      },
      "source": [
        "#### Stacking all vectors. Remember to keep the vectors in the same order used while creating training data"
      ]
    },
    {
      "cell_type": "code",
      "metadata": {
        "colab_type": "code",
        "id": "ztYvAcBwIzcl",
        "outputId": "fc8de3ff-bfdc-451e-c4db-ecbc904d347f",
        "colab": {
          "base_uri": "https://localhost:8080/",
          "height": 51
        }
      },
      "source": [
        "test_vectors = scipy.sparse.hstack((test_addr_vector, test_desc_vector, test_contract_vector, test_name_vector))\n",
        "test_vectors"
      ],
      "execution_count": 106,
      "outputs": [
        {
          "output_type": "execute_result",
          "data": {
            "text/plain": [
              "<22360x9590 sparse matrix of type '<class 'numpy.int64'>'\n",
              "\twith 344792 stored elements in COOrdinate format>"
            ]
          },
          "metadata": {
            "tags": []
          },
          "execution_count": 106
        }
      ]
    },
    {
      "cell_type": "code",
      "metadata": {
        "id": "QpP2dqyOnKTK",
        "colab_type": "code",
        "colab": {}
      },
      "source": [
        "test_application_number = test_df['Application/Permit Number']\n",
        "test_df.drop([ 'Application/Permit Number', 'Address', 'Description',  'Contractor', 'Applicant Name' ], axis = 1, inplace = True)"
      ],
      "execution_count": 0,
      "outputs": []
    },
    {
      "cell_type": "code",
      "metadata": {
        "colab_type": "code",
        "id": "RK53gIYGOGOa",
        "colab": {}
      },
      "source": [
        "test_df['total period'] = (test_df['Expiration Date'] - test_df['Application Date']).dt.days\n",
        "test_df['total period'].fillna(diff.mean(), inplace = True) \n",
        "test_df = test_df.drop(['Expiration Date','Application Date'] , axis = 1)\n"
      ],
      "execution_count": 0,
      "outputs": []
    },
    {
      "cell_type": "code",
      "metadata": {
        "colab_type": "code",
        "id": "mxvNZLZVQe0p",
        "outputId": "f5f2aa9a-0ad4-4b41-ee37-574d010876e3",
        "colab": {
          "base_uri": "https://localhost:8080/",
          "height": 292
        }
      },
      "source": [
        "print(test_df.shape)\n",
        "test_df.head()"
      ],
      "execution_count": 102,
      "outputs": [
        {
          "output_type": "stream",
          "text": [
            "(22360, 37)\n"
          ],
          "name": "stdout"
        },
        {
          "output_type": "execute_result",
          "data": {
            "text/html": [
              "<div>\n",
              "<style scoped>\n",
              "    .dataframe tbody tr th:only-of-type {\n",
              "        vertical-align: middle;\n",
              "    }\n",
              "\n",
              "    .dataframe tbody tr th {\n",
              "        vertical-align: top;\n",
              "    }\n",
              "\n",
              "    .dataframe thead th {\n",
              "        text-align: right;\n",
              "    }\n",
              "</style>\n",
              "<table border=\"1\" class=\"dataframe\">\n",
              "  <thead>\n",
              "    <tr style=\"text-align: right;\">\n",
              "      <th></th>\n",
              "      <th>Work Type</th>\n",
              "      <th>Latitude</th>\n",
              "      <th>Longitude</th>\n",
              "      <th>Permit Type_Construction</th>\n",
              "      <th>Permit Type_Demolition</th>\n",
              "      <th>Permit Type_Site Development</th>\n",
              "      <th>Action Type_ADD/ALT</th>\n",
              "      <th>Action Type_ALTER</th>\n",
              "      <th>Action Type_CURB CUT</th>\n",
              "      <th>Action Type_DECONSTRUCTION</th>\n",
              "      <th>Action Type_DEMOLITION</th>\n",
              "      <th>Action Type_DRAINAGE APPROVAL</th>\n",
              "      <th>Action Type_FLOODPLAIN LICENSE ONLY</th>\n",
              "      <th>Action Type_GRADING</th>\n",
              "      <th>Action Type_NA</th>\n",
              "      <th>Action Type_NEW</th>\n",
              "      <th>Action Type_NO CONSTRUCTION</th>\n",
              "      <th>Action Type_RELOCATION</th>\n",
              "      <th>Action Type_SHORELINE EXEMPTION ONLY</th>\n",
              "      <th>Action Type_SITE MONITORING ONLY</th>\n",
              "      <th>Action Type_TEMP</th>\n",
              "      <th>Action Type_TREE PROTECTION EXEMPTION</th>\n",
              "      <th>Action Type_TREE/VEGETATION MAINT/RESTORE</th>\n",
              "      <th>Status_AP Closed</th>\n",
              "      <th>Status_AP Finaled</th>\n",
              "      <th>Status_Application Accepted</th>\n",
              "      <th>Status_CANCELLED</th>\n",
              "      <th>Status_Cert of Occupancy Authorized</th>\n",
              "      <th>Status_Information Collected</th>\n",
              "      <th>Status_Initial Information Collected</th>\n",
              "      <th>Status_Inspections Added</th>\n",
              "      <th>Status_NA</th>\n",
              "      <th>Status_Permit Closed</th>\n",
              "      <th>Status_Permit Finaled</th>\n",
              "      <th>Status_Permit Issued</th>\n",
              "      <th>Status_Reviews Completed</th>\n",
              "      <th>total period</th>\n",
              "    </tr>\n",
              "  </thead>\n",
              "  <tbody>\n",
              "    <tr>\n",
              "      <th>0</th>\n",
              "      <td>0</td>\n",
              "      <td>47.690123</td>\n",
              "      <td>-122.379795</td>\n",
              "      <td>1</td>\n",
              "      <td>0</td>\n",
              "      <td>0</td>\n",
              "      <td>1</td>\n",
              "      <td>0</td>\n",
              "      <td>0</td>\n",
              "      <td>0</td>\n",
              "      <td>0</td>\n",
              "      <td>0</td>\n",
              "      <td>0</td>\n",
              "      <td>0</td>\n",
              "      <td>0</td>\n",
              "      <td>0</td>\n",
              "      <td>0</td>\n",
              "      <td>0</td>\n",
              "      <td>0</td>\n",
              "      <td>0</td>\n",
              "      <td>0</td>\n",
              "      <td>0</td>\n",
              "      <td>0</td>\n",
              "      <td>0</td>\n",
              "      <td>0</td>\n",
              "      <td>0</td>\n",
              "      <td>0</td>\n",
              "      <td>0</td>\n",
              "      <td>0</td>\n",
              "      <td>0</td>\n",
              "      <td>0</td>\n",
              "      <td>0</td>\n",
              "      <td>1</td>\n",
              "      <td>0</td>\n",
              "      <td>0</td>\n",
              "      <td>0</td>\n",
              "      <td>549.000000</td>\n",
              "    </tr>\n",
              "    <tr>\n",
              "      <th>1</th>\n",
              "      <td>0</td>\n",
              "      <td>47.540111</td>\n",
              "      <td>-122.290535</td>\n",
              "      <td>1</td>\n",
              "      <td>0</td>\n",
              "      <td>0</td>\n",
              "      <td>1</td>\n",
              "      <td>0</td>\n",
              "      <td>0</td>\n",
              "      <td>0</td>\n",
              "      <td>0</td>\n",
              "      <td>0</td>\n",
              "      <td>0</td>\n",
              "      <td>0</td>\n",
              "      <td>0</td>\n",
              "      <td>0</td>\n",
              "      <td>0</td>\n",
              "      <td>0</td>\n",
              "      <td>0</td>\n",
              "      <td>0</td>\n",
              "      <td>0</td>\n",
              "      <td>0</td>\n",
              "      <td>0</td>\n",
              "      <td>0</td>\n",
              "      <td>0</td>\n",
              "      <td>0</td>\n",
              "      <td>0</td>\n",
              "      <td>0</td>\n",
              "      <td>0</td>\n",
              "      <td>0</td>\n",
              "      <td>0</td>\n",
              "      <td>0</td>\n",
              "      <td>1</td>\n",
              "      <td>0</td>\n",
              "      <td>0</td>\n",
              "      <td>0</td>\n",
              "      <td>547.000000</td>\n",
              "    </tr>\n",
              "    <tr>\n",
              "      <th>2</th>\n",
              "      <td>0</td>\n",
              "      <td>47.540470</td>\n",
              "      <td>-122.281410</td>\n",
              "      <td>0</td>\n",
              "      <td>1</td>\n",
              "      <td>0</td>\n",
              "      <td>0</td>\n",
              "      <td>0</td>\n",
              "      <td>0</td>\n",
              "      <td>0</td>\n",
              "      <td>1</td>\n",
              "      <td>0</td>\n",
              "      <td>0</td>\n",
              "      <td>0</td>\n",
              "      <td>0</td>\n",
              "      <td>0</td>\n",
              "      <td>0</td>\n",
              "      <td>0</td>\n",
              "      <td>0</td>\n",
              "      <td>0</td>\n",
              "      <td>0</td>\n",
              "      <td>0</td>\n",
              "      <td>0</td>\n",
              "      <td>0</td>\n",
              "      <td>0</td>\n",
              "      <td>0</td>\n",
              "      <td>0</td>\n",
              "      <td>0</td>\n",
              "      <td>0</td>\n",
              "      <td>0</td>\n",
              "      <td>0</td>\n",
              "      <td>0</td>\n",
              "      <td>0</td>\n",
              "      <td>0</td>\n",
              "      <td>0</td>\n",
              "      <td>1</td>\n",
              "      <td>694.400934</td>\n",
              "    </tr>\n",
              "    <tr>\n",
              "      <th>3</th>\n",
              "      <td>1</td>\n",
              "      <td>47.654986</td>\n",
              "      <td>-122.327467</td>\n",
              "      <td>1</td>\n",
              "      <td>0</td>\n",
              "      <td>0</td>\n",
              "      <td>0</td>\n",
              "      <td>0</td>\n",
              "      <td>0</td>\n",
              "      <td>0</td>\n",
              "      <td>0</td>\n",
              "      <td>0</td>\n",
              "      <td>0</td>\n",
              "      <td>0</td>\n",
              "      <td>0</td>\n",
              "      <td>1</td>\n",
              "      <td>0</td>\n",
              "      <td>0</td>\n",
              "      <td>0</td>\n",
              "      <td>0</td>\n",
              "      <td>0</td>\n",
              "      <td>0</td>\n",
              "      <td>0</td>\n",
              "      <td>0</td>\n",
              "      <td>0</td>\n",
              "      <td>0</td>\n",
              "      <td>0</td>\n",
              "      <td>0</td>\n",
              "      <td>0</td>\n",
              "      <td>0</td>\n",
              "      <td>0</td>\n",
              "      <td>0</td>\n",
              "      <td>0</td>\n",
              "      <td>0</td>\n",
              "      <td>1</td>\n",
              "      <td>0</td>\n",
              "      <td>795.000000</td>\n",
              "    </tr>\n",
              "    <tr>\n",
              "      <th>4</th>\n",
              "      <td>0</td>\n",
              "      <td>47.666714</td>\n",
              "      <td>-122.383900</td>\n",
              "      <td>1</td>\n",
              "      <td>0</td>\n",
              "      <td>0</td>\n",
              "      <td>1</td>\n",
              "      <td>0</td>\n",
              "      <td>0</td>\n",
              "      <td>0</td>\n",
              "      <td>0</td>\n",
              "      <td>0</td>\n",
              "      <td>0</td>\n",
              "      <td>0</td>\n",
              "      <td>0</td>\n",
              "      <td>0</td>\n",
              "      <td>0</td>\n",
              "      <td>0</td>\n",
              "      <td>0</td>\n",
              "      <td>0</td>\n",
              "      <td>0</td>\n",
              "      <td>0</td>\n",
              "      <td>0</td>\n",
              "      <td>0</td>\n",
              "      <td>0</td>\n",
              "      <td>0</td>\n",
              "      <td>0</td>\n",
              "      <td>0</td>\n",
              "      <td>0</td>\n",
              "      <td>0</td>\n",
              "      <td>0</td>\n",
              "      <td>0</td>\n",
              "      <td>1</td>\n",
              "      <td>0</td>\n",
              "      <td>0</td>\n",
              "      <td>0</td>\n",
              "      <td>549.000000</td>\n",
              "    </tr>\n",
              "  </tbody>\n",
              "</table>\n",
              "</div>"
            ],
            "text/plain": [
              "   Work Type   Latitude  ...  Status_Reviews Completed  total period\n",
              "0          0  47.690123  ...                         0    549.000000\n",
              "1          0  47.540111  ...                         0    547.000000\n",
              "2          0  47.540470  ...                         1    694.400934\n",
              "3          1  47.654986  ...                         0    795.000000\n",
              "4          0  47.666714  ...                         0    549.000000\n",
              "\n",
              "[5 rows x 37 columns]"
            ]
          },
          "metadata": {
            "tags": []
          },
          "execution_count": 102
        }
      ]
    },
    {
      "cell_type": "code",
      "metadata": {
        "id": "1g64VFn0ns49",
        "colab_type": "code",
        "colab": {
          "base_uri": "https://localhost:8080/",
          "height": 34
        },
        "outputId": "3f06db6b-b3d5-4057-8a06-8e0a43c5c024"
      },
      "source": [
        "X_test = scipy.sparse.hstack((test_vectors, test_df))\n",
        "X_test.shape"
      ],
      "execution_count": 107,
      "outputs": [
        {
          "output_type": "execute_result",
          "data": {
            "text/plain": [
              "(22360, 9627)"
            ]
          },
          "metadata": {
            "tags": []
          },
          "execution_count": 107
        }
      ]
    },
    {
      "cell_type": "markdown",
      "metadata": {
        "colab_type": "text",
        "id": "TSr3bWK0x2MN"
      },
      "source": [
        "### predict Categories for Test Data"
      ]
    },
    {
      "cell_type": "markdown",
      "metadata": {
        "colab_type": "text",
        "id": "weWEd7FGyz7Q"
      },
      "source": [
        "#### We do below step to avoid train and test feature order mismatch"
      ]
    },
    {
      "cell_type": "code",
      "metadata": {
        "colab_type": "code",
        "id": "AVCq4_fAWMCy",
        "colab": {}
      },
      "source": [
        "test_df  = test_df[df.columns]"
      ],
      "execution_count": 0,
      "outputs": []
    },
    {
      "cell_type": "markdown",
      "metadata": {
        "colab_type": "text",
        "id": "_KpXWgFLzFA7"
      },
      "source": [
        "#### predict output categories (These are encoded values)"
      ]
    },
    {
      "cell_type": "code",
      "metadata": {
        "colab_type": "code",
        "id": "3OWDrjBTvKmy",
        "colab": {}
      },
      "source": [
        "test_category = xg.predict(X_test)"
      ],
      "execution_count": 0,
      "outputs": []
    },
    {
      "cell_type": "markdown",
      "metadata": {
        "colab_type": "text",
        "id": "mBL0pkGZzNur"
      },
      "source": [
        "#### Decode the above output to get Categories"
      ]
    },
    {
      "cell_type": "code",
      "metadata": {
        "colab_type": "code",
        "id": "STRDbmXQwi6C",
        "colab": {}
      },
      "source": [
        "test_category = le.inverse_transform(test_category)"
      ],
      "execution_count": 0,
      "outputs": []
    },
    {
      "cell_type": "markdown",
      "metadata": {
        "colab_type": "text",
        "id": "WI9cKk36zVen"
      },
      "source": [
        "#### create submission Dataframe and save"
      ]
    },
    {
      "cell_type": "code",
      "metadata": {
        "colab_type": "code",
        "id": "IokrsNRqSije",
        "colab": {}
      },
      "source": [
        "submission = pd.DataFrame({'Application/Permit Number': test_application_number, 'Category': test_category})"
      ],
      "execution_count": 0,
      "outputs": []
    },
    {
      "cell_type": "code",
      "metadata": {
        "colab_type": "code",
        "id": "r0BBUZiUTFpK",
        "outputId": "9eecec01-30e8-4f6b-d421-67198b9089c8",
        "colab": {
          "base_uri": "https://localhost:8080/",
          "height": 34
        }
      },
      "source": [
        "submission.shape"
      ],
      "execution_count": 111,
      "outputs": [
        {
          "output_type": "execute_result",
          "data": {
            "text/plain": [
              "(22360, 2)"
            ]
          },
          "metadata": {
            "tags": []
          },
          "execution_count": 111
        }
      ]
    },
    {
      "cell_type": "code",
      "metadata": {
        "colab_type": "code",
        "id": "E8GtfLoJWqU_",
        "outputId": "35fc9384-5459-4cd2-b430-4717ad48b241",
        "colab": {
          "base_uri": "https://localhost:8080/",
          "height": 204
        }
      },
      "source": [
        "submission.head()"
      ],
      "execution_count": 112,
      "outputs": [
        {
          "output_type": "execute_result",
          "data": {
            "text/html": [
              "<div>\n",
              "<style scoped>\n",
              "    .dataframe tbody tr th:only-of-type {\n",
              "        vertical-align: middle;\n",
              "    }\n",
              "\n",
              "    .dataframe tbody tr th {\n",
              "        vertical-align: top;\n",
              "    }\n",
              "\n",
              "    .dataframe thead th {\n",
              "        text-align: right;\n",
              "    }\n",
              "</style>\n",
              "<table border=\"1\" class=\"dataframe\">\n",
              "  <thead>\n",
              "    <tr style=\"text-align: right;\">\n",
              "      <th></th>\n",
              "      <th>Application/Permit Number</th>\n",
              "      <th>Category</th>\n",
              "    </tr>\n",
              "  </thead>\n",
              "  <tbody>\n",
              "    <tr>\n",
              "      <th>0</th>\n",
              "      <td>6425384</td>\n",
              "      <td>SINGLE FAMILY / DUPLEX</td>\n",
              "    </tr>\n",
              "    <tr>\n",
              "      <th>1</th>\n",
              "      <td>6496502</td>\n",
              "      <td>SINGLE FAMILY / DUPLEX</td>\n",
              "    </tr>\n",
              "    <tr>\n",
              "      <th>2</th>\n",
              "      <td>6622347</td>\n",
              "      <td>INSTITUTIONAL</td>\n",
              "    </tr>\n",
              "    <tr>\n",
              "      <th>3</th>\n",
              "      <td>6565685</td>\n",
              "      <td>MULTIFAMILY</td>\n",
              "    </tr>\n",
              "    <tr>\n",
              "      <th>4</th>\n",
              "      <td>6487370</td>\n",
              "      <td>COMMERCIAL</td>\n",
              "    </tr>\n",
              "  </tbody>\n",
              "</table>\n",
              "</div>"
            ],
            "text/plain": [
              "   Application/Permit Number                Category\n",
              "0                    6425384  SINGLE FAMILY / DUPLEX\n",
              "1                    6496502  SINGLE FAMILY / DUPLEX\n",
              "2                    6622347           INSTITUTIONAL\n",
              "3                    6565685             MULTIFAMILY\n",
              "4                    6487370              COMMERCIAL"
            ]
          },
          "metadata": {
            "tags": []
          },
          "execution_count": 112
        }
      ]
    },
    {
      "cell_type": "code",
      "metadata": {
        "colab_type": "code",
        "id": "3suSPTEITUIJ",
        "colab": {}
      },
      "source": [
        "submission.to_csv('./submission_modified.csv', sep = ',', index = False) "
      ],
      "execution_count": 0,
      "outputs": []
    },
    {
      "cell_type": "code",
      "metadata": {
        "id": "2XUaN44gqHte",
        "colab_type": "code",
        "colab": {}
      },
      "source": [
        ""
      ],
      "execution_count": 0,
      "outputs": []
    }
  ]
}